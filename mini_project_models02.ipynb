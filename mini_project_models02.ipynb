{
 "cells": [
  {
   "cell_type": "markdown",
   "id": "edb29026-341b-4be7-87f9-e76c6d27e438",
   "metadata": {},
   "source": [
    "# Import Modules"
   ]
  },
  {
   "cell_type": "code",
   "execution_count": 2,
   "id": "fa323654-6108-4b4f-b331-6b592fb4041c",
   "metadata": {},
   "outputs": [],
   "source": [
    "import numpy as np\n",
    "import pandas as pd\n",
    "import matplotlib.pyplot as plt \n",
    "import seaborn as sns\n",
    "import datetime \n",
    "import time\n",
    "import category_encoders as ce\n",
    "import sklearn\n",
    "from pathlib import Path\n",
    "\n",
    "from sklearn.model_selection import train_test_split\n",
    "from sklearn.model_selection import cross_val_score\n",
    "from sklearn.model_selection import GridSearchCV\n",
    "from sklearn.preprocessing import StandardScaler\n",
    "from sklearn.feature_selection import RFE\n",
    "from sklearn.preprocessing import label_binarize\n",
    "from sklearn.multiclass import OneVsRestClassifier\n",
    "from sklearn.inspection import permutation_importance\n",
    "from sklearn.model_selection import RepeatedStratifiedKFold\n",
    "from sklearn.datasets import load_digits\n",
    "from sklearn.model_selection import learning_curve\n",
    "from sklearn.model_selection import ShuffleSplit\n",
    "\n",
    "from sklearn.ensemble import RandomForestClassifier\n",
    "from sklearn.linear_model import LogisticRegression\n",
    "from sklearn.naive_bayes import BernoulliNB\n",
    "from sklearn.naive_bayes import GaussianNB\n",
    "from sklearn.naive_bayes import MultinomialNB\n",
    "from sklearn.ensemble import GradientBoostingClassifier\n",
    "\n",
    "from sklearn import metrics\n",
    "from sklearn.metrics import classification_report\n",
    "from sklearn.metrics import accuracy_score, confusion_matrix, roc_curve, auc, roc_auc_score\n"
   ]
  },
  {
   "cell_type": "code",
   "execution_count": 3,
   "id": "91955113-dfe6-40d4-a16e-138d7d632d93",
   "metadata": {},
   "outputs": [],
   "source": [
    "modelData_csv= 'mini_project02.csv'"
   ]
  },
  {
   "cell_type": "code",
   "execution_count": 4,
   "id": "d669f3fc-01a3-433a-95a8-1ab5110ae7fe",
   "metadata": {},
   "outputs": [],
   "source": [
    "dfNumeric = pd.read_csv(modelData_csv)"
   ]
  },
  {
   "cell_type": "code",
   "execution_count": 5,
   "id": "17425ca3-33a3-4983-826c-dfc91cdebcc2",
   "metadata": {},
   "outputs": [
    {
     "data": {
      "text/html": [
       "<div>\n",
       "<style scoped>\n",
       "    .dataframe tbody tr th:only-of-type {\n",
       "        vertical-align: middle;\n",
       "    }\n",
       "\n",
       "    .dataframe tbody tr th {\n",
       "        vertical-align: top;\n",
       "    }\n",
       "\n",
       "    .dataframe thead th {\n",
       "        text-align: right;\n",
       "    }\n",
       "</style>\n",
       "<table border=\"1\" class=\"dataframe\">\n",
       "  <thead>\n",
       "    <tr style=\"text-align: right;\">\n",
       "      <th></th>\n",
       "      <th>Category_encoded</th>\n",
       "      <th>Subcategory_encoded</th>\n",
       "      <th>Country_encoded</th>\n",
       "      <th>Duration</th>\n",
       "      <th>Goal</th>\n",
       "      <th>Pledged</th>\n",
       "      <th>Backers</th>\n",
       "      <th>State</th>\n",
       "    </tr>\n",
       "  </thead>\n",
       "  <tbody>\n",
       "    <tr>\n",
       "      <th>0</th>\n",
       "      <td>0.247895</td>\n",
       "      <td>0.256988</td>\n",
       "      <td>0.375755</td>\n",
       "      <td>40</td>\n",
       "      <td>1000</td>\n",
       "      <td>625</td>\n",
       "      <td>30</td>\n",
       "      <td>0</td>\n",
       "    </tr>\n",
       "    <tr>\n",
       "      <th>1</th>\n",
       "      <td>0.378628</td>\n",
       "      <td>0.542036</td>\n",
       "      <td>0.375755</td>\n",
       "      <td>88</td>\n",
       "      <td>80000</td>\n",
       "      <td>22</td>\n",
       "      <td>3</td>\n",
       "      <td>0</td>\n",
       "    </tr>\n",
       "    <tr>\n",
       "      <th>2</th>\n",
       "      <td>0.411704</td>\n",
       "      <td>0.518826</td>\n",
       "      <td>0.375755</td>\n",
       "      <td>9</td>\n",
       "      <td>20</td>\n",
       "      <td>35</td>\n",
       "      <td>3</td>\n",
       "      <td>1</td>\n",
       "    </tr>\n",
       "    <tr>\n",
       "      <th>3</th>\n",
       "      <td>0.199876</td>\n",
       "      <td>0.123011</td>\n",
       "      <td>0.375755</td>\n",
       "      <td>80</td>\n",
       "      <td>99</td>\n",
       "      <td>145</td>\n",
       "      <td>25</td>\n",
       "      <td>1</td>\n",
       "    </tr>\n",
       "    <tr>\n",
       "      <th>4</th>\n",
       "      <td>0.247895</td>\n",
       "      <td>0.256988</td>\n",
       "      <td>0.375755</td>\n",
       "      <td>29</td>\n",
       "      <td>1900</td>\n",
       "      <td>387</td>\n",
       "      <td>10</td>\n",
       "      <td>0</td>\n",
       "    </tr>\n",
       "  </tbody>\n",
       "</table>\n",
       "</div>"
      ],
      "text/plain": [
       "   Category_encoded  Subcategory_encoded  Country_encoded  Duration   Goal  \\\n",
       "0          0.247895             0.256988         0.375755        40   1000   \n",
       "1          0.378628             0.542036         0.375755        88  80000   \n",
       "2          0.411704             0.518826         0.375755         9     20   \n",
       "3          0.199876             0.123011         0.375755        80     99   \n",
       "4          0.247895             0.256988         0.375755        29   1900   \n",
       "\n",
       "   Pledged  Backers  State  \n",
       "0      625       30      0  \n",
       "1       22        3      0  \n",
       "2       35        3      1  \n",
       "3      145       25      1  \n",
       "4      387       10      0  "
      ]
     },
     "execution_count": 5,
     "metadata": {},
     "output_type": "execute_result"
    }
   ],
   "source": [
    "dfNumeric.head()"
   ]
  },
  {
   "cell_type": "code",
   "execution_count": 6,
   "id": "c322b68e-7f65-423d-8973-9e5aec459e59",
   "metadata": {},
   "outputs": [],
   "source": [
    "dfSample = dfNumeric.sample(n=10000, random_state=42)"
   ]
  },
  {
   "cell_type": "code",
   "execution_count": 7,
   "id": "d8e90f06-e6f9-4b21-ba2a-cf78a7c8cd02",
   "metadata": {},
   "outputs": [
    {
     "data": {
      "text/plain": [
       "Category_encoded       0\n",
       "Subcategory_encoded    0\n",
       "Country_encoded        0\n",
       "Duration               0\n",
       "Goal                   0\n",
       "Pledged                0\n",
       "Backers                0\n",
       "State                  0\n",
       "dtype: int64"
      ]
     },
     "execution_count": 7,
     "metadata": {},
     "output_type": "execute_result"
    }
   ],
   "source": [
    "dfSample.isna().sum()"
   ]
  },
  {
   "cell_type": "code",
   "execution_count": 8,
   "id": "c5d6ca47-e915-43dc-94a9-1f88ad6480f0",
   "metadata": {},
   "outputs": [
    {
     "data": {
      "text/html": [
       "<div>\n",
       "<style scoped>\n",
       "    .dataframe tbody tr th:only-of-type {\n",
       "        vertical-align: middle;\n",
       "    }\n",
       "\n",
       "    .dataframe tbody tr th {\n",
       "        vertical-align: top;\n",
       "    }\n",
       "\n",
       "    .dataframe thead th {\n",
       "        text-align: right;\n",
       "    }\n",
       "</style>\n",
       "<table border=\"1\" class=\"dataframe\">\n",
       "  <thead>\n",
       "    <tr style=\"text-align: right;\">\n",
       "      <th></th>\n",
       "      <th>Category_encoded</th>\n",
       "      <th>Subcategory_encoded</th>\n",
       "      <th>Country_encoded</th>\n",
       "      <th>Duration</th>\n",
       "      <th>Goal</th>\n",
       "      <th>Pledged</th>\n",
       "      <th>Backers</th>\n",
       "      <th>State</th>\n",
       "    </tr>\n",
       "  </thead>\n",
       "  <tbody>\n",
       "    <tr>\n",
       "      <th>329774</th>\n",
       "      <td>0.358292</td>\n",
       "      <td>0.559062</td>\n",
       "      <td>0.361374</td>\n",
       "      <td>39</td>\n",
       "      <td>937</td>\n",
       "      <td>1082</td>\n",
       "      <td>35</td>\n",
       "      <td>1</td>\n",
       "    </tr>\n",
       "    <tr>\n",
       "      <th>144667</th>\n",
       "      <td>0.249222</td>\n",
       "      <td>0.287872</td>\n",
       "      <td>0.375755</td>\n",
       "      <td>34</td>\n",
       "      <td>5000</td>\n",
       "      <td>6847</td>\n",
       "      <td>89</td>\n",
       "      <td>1</td>\n",
       "    </tr>\n",
       "    <tr>\n",
       "      <th>234044</th>\n",
       "      <td>0.242185</td>\n",
       "      <td>0.250918</td>\n",
       "      <td>0.258721</td>\n",
       "      <td>30</td>\n",
       "      <td>1108</td>\n",
       "      <td>135</td>\n",
       "      <td>8</td>\n",
       "      <td>0</td>\n",
       "    </tr>\n",
       "    <tr>\n",
       "      <th>36434</th>\n",
       "      <td>0.314747</td>\n",
       "      <td>0.269747</td>\n",
       "      <td>0.375755</td>\n",
       "      <td>60</td>\n",
       "      <td>3000</td>\n",
       "      <td>360</td>\n",
       "      <td>12</td>\n",
       "      <td>0</td>\n",
       "    </tr>\n",
       "    <tr>\n",
       "      <th>353616</th>\n",
       "      <td>0.354469</td>\n",
       "      <td>0.360667</td>\n",
       "      <td>0.314513</td>\n",
       "      <td>30</td>\n",
       "      <td>59600</td>\n",
       "      <td>336</td>\n",
       "      <td>14</td>\n",
       "      <td>0</td>\n",
       "    </tr>\n",
       "  </tbody>\n",
       "</table>\n",
       "</div>"
      ],
      "text/plain": [
       "        Category_encoded  Subcategory_encoded  Country_encoded  Duration  \\\n",
       "329774          0.358292             0.559062         0.361374        39   \n",
       "144667          0.249222             0.287872         0.375755        34   \n",
       "234044          0.242185             0.250918         0.258721        30   \n",
       "36434           0.314747             0.269747         0.375755        60   \n",
       "353616          0.354469             0.360667         0.314513        30   \n",
       "\n",
       "         Goal  Pledged  Backers  State  \n",
       "329774    937     1082       35      1  \n",
       "144667   5000     6847       89      1  \n",
       "234044   1108      135        8      0  \n",
       "36434    3000      360       12      0  \n",
       "353616  59600      336       14      0  "
      ]
     },
     "execution_count": 8,
     "metadata": {},
     "output_type": "execute_result"
    }
   ],
   "source": [
    "dfSample.head()"
   ]
  },
  {
   "cell_type": "markdown",
   "id": "5e832d13-17d2-44c3-918d-5c7e4882a254",
   "metadata": {},
   "source": [
    "## Functions"
   ]
  },
  {
   "cell_type": "code",
   "execution_count": 10,
   "id": "e279c077-1580-466d-9af2-a2736a369bde",
   "metadata": {
    "scrolled": true
   },
   "outputs": [
    {
     "data": {
      "text/plain": [
       "['image00',\n",
       " 'image01',\n",
       " 'image02',\n",
       " 'image03',\n",
       " 'image04',\n",
       " 'image05',\n",
       " 'image06',\n",
       " 'image07',\n",
       " 'image08',\n",
       " 'image09',\n",
       " 'image010',\n",
       " 'image011',\n",
       " 'image012',\n",
       " 'image013',\n",
       " 'image014',\n",
       " 'image015',\n",
       " 'image016',\n",
       " 'image017',\n",
       " 'image018',\n",
       " 'image019',\n",
       " 'image020',\n",
       " 'image021',\n",
       " 'image022',\n",
       " 'image023',\n",
       " 'image024',\n",
       " 'image025',\n",
       " 'image026',\n",
       " 'image027',\n",
       " 'image028',\n",
       " 'image029',\n",
       " 'image030',\n",
       " 'image031',\n",
       " 'image032',\n",
       " 'image033',\n",
       " 'image034',\n",
       " 'image035',\n",
       " 'image036',\n",
       " 'image037',\n",
       " 'image038',\n",
       " 'image039',\n",
       " 'image040',\n",
       " 'image041',\n",
       " 'image042',\n",
       " 'image043',\n",
       " 'image044',\n",
       " 'image045',\n",
       " 'image046',\n",
       " 'image047',\n",
       " 'image048',\n",
       " 'image049',\n",
       " 'image050',\n",
       " 'image051',\n",
       " 'image052',\n",
       " 'image053',\n",
       " 'image054',\n",
       " 'image055',\n",
       " 'image056',\n",
       " 'image057',\n",
       " 'image058',\n",
       " 'image059']"
      ]
     },
     "execution_count": 10,
     "metadata": {},
     "output_type": "execute_result"
    }
   ],
   "source": [
    "imageTag = []\n",
    "for i in range(60):\n",
    "    if(i<= 60):\n",
    "        img= f'image0{i}'\n",
    "        imageTag.append(img)\n",
    "imageTag"
   ]
  },
  {
   "cell_type": "code",
   "execution_count": 11,
   "id": "6c61a9fb-ecd0-4fb2-b647-4df52775f571",
   "metadata": {},
   "outputs": [],
   "source": [
    "def savePlotFunction(imageRef):\n",
    "    plt.savefig(f'{imageTag[imageRef]}.png', facecolor = 'w', bbox_inches= 'tight',\n",
    "                pad_inches=0.3, transparent= True)\n",
    "    plt.show()\n",
    "    return"
   ]
  },
  {
   "cell_type": "markdown",
   "id": "306c37fa-b641-47f8-955b-10351e2677fe",
   "metadata": {},
   "source": [
    "## Define X and y"
   ]
  },
  {
   "cell_type": "code",
   "execution_count": 13,
   "id": "73f13d5d-d05b-4761-826f-0c45d28d9caa",
   "metadata": {},
   "outputs": [
    {
     "data": {
      "text/plain": [
       "['Category_encoded', 'Subcategory_encoded', 'Pledged', 'Backers']"
      ]
     },
     "execution_count": 13,
     "metadata": {},
     "output_type": "execute_result"
    }
   ],
   "source": [
    "# Select independant variables 'X'\n",
    "predict_cols = [c for c in dfSample.columns if c not in ['State', 'Country_encoded', 'Duration', 'Goal']]\n",
    "predict_cols"
   ]
  },
  {
   "cell_type": "code",
   "execution_count": 14,
   "id": "ff9e8721-9f2d-4f86-8515-c3f233baab6a",
   "metadata": {},
   "outputs": [
    {
     "data": {
      "text/html": [
       "<div>\n",
       "<style scoped>\n",
       "    .dataframe tbody tr th:only-of-type {\n",
       "        vertical-align: middle;\n",
       "    }\n",
       "\n",
       "    .dataframe tbody tr th {\n",
       "        vertical-align: top;\n",
       "    }\n",
       "\n",
       "    .dataframe thead th {\n",
       "        text-align: right;\n",
       "    }\n",
       "</style>\n",
       "<table border=\"1\" class=\"dataframe\">\n",
       "  <thead>\n",
       "    <tr style=\"text-align: right;\">\n",
       "      <th></th>\n",
       "      <th>Category_encoded</th>\n",
       "      <th>Subcategory_encoded</th>\n",
       "      <th>Pledged</th>\n",
       "      <th>Backers</th>\n",
       "    </tr>\n",
       "  </thead>\n",
       "  <tbody>\n",
       "    <tr>\n",
       "      <th>329774</th>\n",
       "      <td>0.358292</td>\n",
       "      <td>0.559062</td>\n",
       "      <td>1082</td>\n",
       "      <td>35</td>\n",
       "    </tr>\n",
       "    <tr>\n",
       "      <th>144667</th>\n",
       "      <td>0.249222</td>\n",
       "      <td>0.287872</td>\n",
       "      <td>6847</td>\n",
       "      <td>89</td>\n",
       "    </tr>\n",
       "    <tr>\n",
       "      <th>234044</th>\n",
       "      <td>0.242185</td>\n",
       "      <td>0.250918</td>\n",
       "      <td>135</td>\n",
       "      <td>8</td>\n",
       "    </tr>\n",
       "    <tr>\n",
       "      <th>36434</th>\n",
       "      <td>0.314747</td>\n",
       "      <td>0.269747</td>\n",
       "      <td>360</td>\n",
       "      <td>12</td>\n",
       "    </tr>\n",
       "    <tr>\n",
       "      <th>353616</th>\n",
       "      <td>0.354469</td>\n",
       "      <td>0.360667</td>\n",
       "      <td>336</td>\n",
       "      <td>14</td>\n",
       "    </tr>\n",
       "  </tbody>\n",
       "</table>\n",
       "</div>"
      ],
      "text/plain": [
       "        Category_encoded  Subcategory_encoded  Pledged  Backers\n",
       "329774          0.358292             0.559062     1082       35\n",
       "144667          0.249222             0.287872     6847       89\n",
       "234044          0.242185             0.250918      135        8\n",
       "36434           0.314747             0.269747      360       12\n",
       "353616          0.354469             0.360667      336       14"
      ]
     },
     "execution_count": 14,
     "metadata": {},
     "output_type": "execute_result"
    }
   ],
   "source": [
    "X = pd.DataFrame(dfSample, columns = predict_cols)\n",
    "X.head()"
   ]
  },
  {
   "cell_type": "code",
   "execution_count": 15,
   "id": "2eedf509-17d4-4cb1-a716-450fa0ebd71f",
   "metadata": {},
   "outputs": [],
   "source": [
    "# sc = StandardScaler()\n",
    "# X = sc.fit_transform(X)"
   ]
  },
  {
   "cell_type": "code",
   "execution_count": 16,
   "id": "8dcc341e-6d3d-4460-a835-b64d540560bc",
   "metadata": {},
   "outputs": [
    {
     "data": {
      "text/html": [
       "<div>\n",
       "<style scoped>\n",
       "    .dataframe tbody tr th:only-of-type {\n",
       "        vertical-align: middle;\n",
       "    }\n",
       "\n",
       "    .dataframe tbody tr th {\n",
       "        vertical-align: top;\n",
       "    }\n",
       "\n",
       "    .dataframe thead th {\n",
       "        text-align: right;\n",
       "    }\n",
       "</style>\n",
       "<table border=\"1\" class=\"dataframe\">\n",
       "  <thead>\n",
       "    <tr style=\"text-align: right;\">\n",
       "      <th></th>\n",
       "      <th>Category_encoded</th>\n",
       "      <th>Subcategory_encoded</th>\n",
       "      <th>Pledged</th>\n",
       "      <th>Backers</th>\n",
       "    </tr>\n",
       "  </thead>\n",
       "  <tbody>\n",
       "    <tr>\n",
       "      <th>329774</th>\n",
       "      <td>0.358292</td>\n",
       "      <td>0.559062</td>\n",
       "      <td>1082</td>\n",
       "      <td>35</td>\n",
       "    </tr>\n",
       "    <tr>\n",
       "      <th>144667</th>\n",
       "      <td>0.249222</td>\n",
       "      <td>0.287872</td>\n",
       "      <td>6847</td>\n",
       "      <td>89</td>\n",
       "    </tr>\n",
       "    <tr>\n",
       "      <th>234044</th>\n",
       "      <td>0.242185</td>\n",
       "      <td>0.250918</td>\n",
       "      <td>135</td>\n",
       "      <td>8</td>\n",
       "    </tr>\n",
       "    <tr>\n",
       "      <th>36434</th>\n",
       "      <td>0.314747</td>\n",
       "      <td>0.269747</td>\n",
       "      <td>360</td>\n",
       "      <td>12</td>\n",
       "    </tr>\n",
       "    <tr>\n",
       "      <th>353616</th>\n",
       "      <td>0.354469</td>\n",
       "      <td>0.360667</td>\n",
       "      <td>336</td>\n",
       "      <td>14</td>\n",
       "    </tr>\n",
       "  </tbody>\n",
       "</table>\n",
       "</div>"
      ],
      "text/plain": [
       "        Category_encoded  Subcategory_encoded  Pledged  Backers\n",
       "329774          0.358292             0.559062     1082       35\n",
       "144667          0.249222             0.287872     6847       89\n",
       "234044          0.242185             0.250918      135        8\n",
       "36434           0.314747             0.269747      360       12\n",
       "353616          0.354469             0.360667      336       14"
      ]
     },
     "execution_count": 16,
     "metadata": {},
     "output_type": "execute_result"
    }
   ],
   "source": [
    "X=pd.DataFrame(X, columns = predict_cols)\n",
    "X.head()"
   ]
  },
  {
   "cell_type": "code",
   "execution_count": 17,
   "id": "87537bb4-720c-4699-8487-132f93fec2da",
   "metadata": {},
   "outputs": [
    {
     "data": {
      "text/plain": [
       "(10000, 4)"
      ]
     },
     "execution_count": 17,
     "metadata": {},
     "output_type": "execute_result"
    }
   ],
   "source": [
    "X.shape"
   ]
  },
  {
   "cell_type": "code",
   "execution_count": 18,
   "id": "c30d9a67-1e78-42df-a9ad-a261108c57ce",
   "metadata": {},
   "outputs": [
    {
     "data": {
      "text/plain": [
       "329774    1\n",
       "144667    1\n",
       "234044    0\n",
       "36434     0\n",
       "353616    0\n",
       "         ..\n",
       "137690    1\n",
       "281059    1\n",
       "18031     1\n",
       "136136    1\n",
       "287054    0\n",
       "Name: State, Length: 10000, dtype: int64"
      ]
     },
     "execution_count": 18,
     "metadata": {},
     "output_type": "execute_result"
    }
   ],
   "source": [
    "y = dfSample['State']\n",
    "y"
   ]
  },
  {
   "cell_type": "code",
   "execution_count": 19,
   "id": "c4ddc720-6ad2-4371-9f10-047a4a17034c",
   "metadata": {},
   "outputs": [],
   "source": [
    "X_train, X_test, y_train, y_test = train_test_split(X, y, test_size=0.2, random_state=42)"
   ]
  },
  {
   "cell_type": "code",
   "execution_count": 20,
   "id": "9a112226-b3ae-4847-ade7-d21ce61741d6",
   "metadata": {},
   "outputs": [
    {
     "data": {
      "text/plain": [
       "(8000, 4)"
      ]
     },
     "execution_count": 20,
     "metadata": {},
     "output_type": "execute_result"
    }
   ],
   "source": [
    "X_train.shape"
   ]
  },
  {
   "cell_type": "code",
   "execution_count": 21,
   "id": "704d45c9-f8e5-46c4-aaed-51bf4476ffc5",
   "metadata": {},
   "outputs": [
    {
     "data": {
      "text/plain": [
       "(2000, 4)"
      ]
     },
     "execution_count": 21,
     "metadata": {},
     "output_type": "execute_result"
    }
   ],
   "source": [
    "X_test.shape"
   ]
  },
  {
   "cell_type": "code",
   "execution_count": 22,
   "id": "7491f4a7-33a2-4301-a917-f21336994e61",
   "metadata": {},
   "outputs": [
    {
     "data": {
      "text/plain": [
       "(8000,)"
      ]
     },
     "execution_count": 22,
     "metadata": {},
     "output_type": "execute_result"
    }
   ],
   "source": [
    "y_train.shape"
   ]
  },
  {
   "cell_type": "code",
   "execution_count": 23,
   "id": "1db8245b-b8b4-4968-9c68-c51e90530b78",
   "metadata": {},
   "outputs": [
    {
     "data": {
      "text/plain": [
       "(2000,)"
      ]
     },
     "execution_count": 23,
     "metadata": {},
     "output_type": "execute_result"
    }
   ],
   "source": [
    "y_test.shape"
   ]
  },
  {
   "cell_type": "markdown",
   "id": "cdb5ad10-f5aa-4bbf-89f2-77edf5508bd6",
   "metadata": {},
   "source": [
    "## Logistic Regression (04)"
   ]
  },
  {
   "cell_type": "code",
   "execution_count": 25,
   "id": "693fbd0e-173b-468d-b24a-2eb7f78b0f23",
   "metadata": {},
   "outputs": [],
   "source": [
    "# logRegMod = LogisticRegression()"
   ]
  },
  {
   "cell_type": "code",
   "execution_count": 26,
   "id": "d7d4f831-1cb6-49a4-a258-9f35d2198b68",
   "metadata": {},
   "outputs": [],
   "source": [
    "# logReg_param_grid = [{\n",
    "#     'penalty' : ['l1', 'l2', 'elasticnet',],\n",
    "#     'solver' : ['lbfgs', 'liblinear', 'sag', 'saga'],\n",
    "#     'max_iter' : [1000, 5000, 10000]\n",
    "#                   }]"
   ]
  },
  {
   "cell_type": "code",
   "execution_count": 27,
   "id": "c9123ece-4343-46ab-b5c6-35bd6956563d",
   "metadata": {},
   "outputs": [],
   "source": [
    "# logReg_grid_search = GridSearchCV(logRegMod04,\n",
    "#                                   logReg_param_grid,\n",
    "#                                   cv=2,\n",
    "#                                   scoring='accuracy',\n",
    "#                                   n_jobs=-1)"
   ]
  },
  {
   "cell_type": "code",
   "execution_count": 28,
   "id": "ea70c180-96d1-4f3b-b41a-c27309c44695",
   "metadata": {},
   "outputs": [],
   "source": [
    "# %%time\n",
    "# logReg_grid_search.fit(X, y)"
   ]
  },
  {
   "cell_type": "markdown",
   "id": "16bb4385-a8e2-4d65-8466-f5553ad391bf",
   "metadata": {},
   "source": [
    "GridSearchCV(cv=2, estimator=LogisticRegression(), n_jobs=-1,\n",
    "             param_grid=[{'max_iter': [1000, 5000, 10000],\n",
    "                          'penalty': ['l1', 'l2', 'elasticnet'],\n",
    "                          'solver': ['lbfgs', 'liblinear', 'sag', 'saga']}],\n",
    "             scoring='accuracy')\n",
    "\n",
    "best_estimator_: LogisticRegression\n",
    "LogisticRegression(max_iter=10000, penalty='l1', solver='saga')\n",
    "\n",
    "LogisticRegression\n",
    "?\n",
    "LogisticRegression(max_iter=10000, penalty='l1', solver='saga')"
   ]
  },
  {
   "cell_type": "code",
   "execution_count": 30,
   "id": "4dee0ba0-c317-4cd1-8ca4-e6bf664ea680",
   "metadata": {},
   "outputs": [],
   "source": [
    "logRegMod04 = LogisticRegression()"
   ]
  },
  {
   "cell_type": "code",
   "execution_count": 31,
   "id": "b158b230-99de-4703-a7b4-8ba1d3df7c12",
   "metadata": {},
   "outputs": [],
   "source": [
    "logRegHP = LogisticRegression(max_iter=1000, penalty='l2', solver='lbfgs', C=1)"
   ]
  },
  {
   "cell_type": "code",
   "execution_count": 32,
   "id": "a77ff4e5-8d66-4cfb-9c32-c3206e17f27b",
   "metadata": {},
   "outputs": [
    {
     "name": "stdout",
     "output_type": "stream",
     "text": [
      "CPU times: total: 188 ms\n",
      "Wall time: 64.2 ms\n"
     ]
    },
    {
     "data": {
      "text/html": [
       "<style>#sk-container-id-1 {\n",
       "  /* Definition of color scheme common for light and dark mode */\n",
       "  --sklearn-color-text: #000;\n",
       "  --sklearn-color-text-muted: #666;\n",
       "  --sklearn-color-line: gray;\n",
       "  /* Definition of color scheme for unfitted estimators */\n",
       "  --sklearn-color-unfitted-level-0: #fff5e6;\n",
       "  --sklearn-color-unfitted-level-1: #f6e4d2;\n",
       "  --sklearn-color-unfitted-level-2: #ffe0b3;\n",
       "  --sklearn-color-unfitted-level-3: chocolate;\n",
       "  /* Definition of color scheme for fitted estimators */\n",
       "  --sklearn-color-fitted-level-0: #f0f8ff;\n",
       "  --sklearn-color-fitted-level-1: #d4ebff;\n",
       "  --sklearn-color-fitted-level-2: #b3dbfd;\n",
       "  --sklearn-color-fitted-level-3: cornflowerblue;\n",
       "\n",
       "  /* Specific color for light theme */\n",
       "  --sklearn-color-text-on-default-background: var(--sg-text-color, var(--theme-code-foreground, var(--jp-content-font-color1, black)));\n",
       "  --sklearn-color-background: var(--sg-background-color, var(--theme-background, var(--jp-layout-color0, white)));\n",
       "  --sklearn-color-border-box: var(--sg-text-color, var(--theme-code-foreground, var(--jp-content-font-color1, black)));\n",
       "  --sklearn-color-icon: #696969;\n",
       "\n",
       "  @media (prefers-color-scheme: dark) {\n",
       "    /* Redefinition of color scheme for dark theme */\n",
       "    --sklearn-color-text-on-default-background: var(--sg-text-color, var(--theme-code-foreground, var(--jp-content-font-color1, white)));\n",
       "    --sklearn-color-background: var(--sg-background-color, var(--theme-background, var(--jp-layout-color0, #111)));\n",
       "    --sklearn-color-border-box: var(--sg-text-color, var(--theme-code-foreground, var(--jp-content-font-color1, white)));\n",
       "    --sklearn-color-icon: #878787;\n",
       "  }\n",
       "}\n",
       "\n",
       "#sk-container-id-1 {\n",
       "  color: var(--sklearn-color-text);\n",
       "}\n",
       "\n",
       "#sk-container-id-1 pre {\n",
       "  padding: 0;\n",
       "}\n",
       "\n",
       "#sk-container-id-1 input.sk-hidden--visually {\n",
       "  border: 0;\n",
       "  clip: rect(1px 1px 1px 1px);\n",
       "  clip: rect(1px, 1px, 1px, 1px);\n",
       "  height: 1px;\n",
       "  margin: -1px;\n",
       "  overflow: hidden;\n",
       "  padding: 0;\n",
       "  position: absolute;\n",
       "  width: 1px;\n",
       "}\n",
       "\n",
       "#sk-container-id-1 div.sk-dashed-wrapped {\n",
       "  border: 1px dashed var(--sklearn-color-line);\n",
       "  margin: 0 0.4em 0.5em 0.4em;\n",
       "  box-sizing: border-box;\n",
       "  padding-bottom: 0.4em;\n",
       "  background-color: var(--sklearn-color-background);\n",
       "}\n",
       "\n",
       "#sk-container-id-1 div.sk-container {\n",
       "  /* jupyter's `normalize.less` sets `[hidden] { display: none; }`\n",
       "     but bootstrap.min.css set `[hidden] { display: none !important; }`\n",
       "     so we also need the `!important` here to be able to override the\n",
       "     default hidden behavior on the sphinx rendered scikit-learn.org.\n",
       "     See: https://github.com/scikit-learn/scikit-learn/issues/21755 */\n",
       "  display: inline-block !important;\n",
       "  position: relative;\n",
       "}\n",
       "\n",
       "#sk-container-id-1 div.sk-text-repr-fallback {\n",
       "  display: none;\n",
       "}\n",
       "\n",
       "div.sk-parallel-item,\n",
       "div.sk-serial,\n",
       "div.sk-item {\n",
       "  /* draw centered vertical line to link estimators */\n",
       "  background-image: linear-gradient(var(--sklearn-color-text-on-default-background), var(--sklearn-color-text-on-default-background));\n",
       "  background-size: 2px 100%;\n",
       "  background-repeat: no-repeat;\n",
       "  background-position: center center;\n",
       "}\n",
       "\n",
       "/* Parallel-specific style estimator block */\n",
       "\n",
       "#sk-container-id-1 div.sk-parallel-item::after {\n",
       "  content: \"\";\n",
       "  width: 100%;\n",
       "  border-bottom: 2px solid var(--sklearn-color-text-on-default-background);\n",
       "  flex-grow: 1;\n",
       "}\n",
       "\n",
       "#sk-container-id-1 div.sk-parallel {\n",
       "  display: flex;\n",
       "  align-items: stretch;\n",
       "  justify-content: center;\n",
       "  background-color: var(--sklearn-color-background);\n",
       "  position: relative;\n",
       "}\n",
       "\n",
       "#sk-container-id-1 div.sk-parallel-item {\n",
       "  display: flex;\n",
       "  flex-direction: column;\n",
       "}\n",
       "\n",
       "#sk-container-id-1 div.sk-parallel-item:first-child::after {\n",
       "  align-self: flex-end;\n",
       "  width: 50%;\n",
       "}\n",
       "\n",
       "#sk-container-id-1 div.sk-parallel-item:last-child::after {\n",
       "  align-self: flex-start;\n",
       "  width: 50%;\n",
       "}\n",
       "\n",
       "#sk-container-id-1 div.sk-parallel-item:only-child::after {\n",
       "  width: 0;\n",
       "}\n",
       "\n",
       "/* Serial-specific style estimator block */\n",
       "\n",
       "#sk-container-id-1 div.sk-serial {\n",
       "  display: flex;\n",
       "  flex-direction: column;\n",
       "  align-items: center;\n",
       "  background-color: var(--sklearn-color-background);\n",
       "  padding-right: 1em;\n",
       "  padding-left: 1em;\n",
       "}\n",
       "\n",
       "\n",
       "/* Toggleable style: style used for estimator/Pipeline/ColumnTransformer box that is\n",
       "clickable and can be expanded/collapsed.\n",
       "- Pipeline and ColumnTransformer use this feature and define the default style\n",
       "- Estimators will overwrite some part of the style using the `sk-estimator` class\n",
       "*/\n",
       "\n",
       "/* Pipeline and ColumnTransformer style (default) */\n",
       "\n",
       "#sk-container-id-1 div.sk-toggleable {\n",
       "  /* Default theme specific background. It is overwritten whether we have a\n",
       "  specific estimator or a Pipeline/ColumnTransformer */\n",
       "  background-color: var(--sklearn-color-background);\n",
       "}\n",
       "\n",
       "/* Toggleable label */\n",
       "#sk-container-id-1 label.sk-toggleable__label {\n",
       "  cursor: pointer;\n",
       "  display: flex;\n",
       "  width: 100%;\n",
       "  margin-bottom: 0;\n",
       "  padding: 0.5em;\n",
       "  box-sizing: border-box;\n",
       "  text-align: center;\n",
       "  align-items: start;\n",
       "  justify-content: space-between;\n",
       "  gap: 0.5em;\n",
       "}\n",
       "\n",
       "#sk-container-id-1 label.sk-toggleable__label .caption {\n",
       "  font-size: 0.6rem;\n",
       "  font-weight: lighter;\n",
       "  color: var(--sklearn-color-text-muted);\n",
       "}\n",
       "\n",
       "#sk-container-id-1 label.sk-toggleable__label-arrow:before {\n",
       "  /* Arrow on the left of the label */\n",
       "  content: \"▸\";\n",
       "  float: left;\n",
       "  margin-right: 0.25em;\n",
       "  color: var(--sklearn-color-icon);\n",
       "}\n",
       "\n",
       "#sk-container-id-1 label.sk-toggleable__label-arrow:hover:before {\n",
       "  color: var(--sklearn-color-text);\n",
       "}\n",
       "\n",
       "/* Toggleable content - dropdown */\n",
       "\n",
       "#sk-container-id-1 div.sk-toggleable__content {\n",
       "  max-height: 0;\n",
       "  max-width: 0;\n",
       "  overflow: hidden;\n",
       "  text-align: left;\n",
       "  /* unfitted */\n",
       "  background-color: var(--sklearn-color-unfitted-level-0);\n",
       "}\n",
       "\n",
       "#sk-container-id-1 div.sk-toggleable__content.fitted {\n",
       "  /* fitted */\n",
       "  background-color: var(--sklearn-color-fitted-level-0);\n",
       "}\n",
       "\n",
       "#sk-container-id-1 div.sk-toggleable__content pre {\n",
       "  margin: 0.2em;\n",
       "  border-radius: 0.25em;\n",
       "  color: var(--sklearn-color-text);\n",
       "  /* unfitted */\n",
       "  background-color: var(--sklearn-color-unfitted-level-0);\n",
       "}\n",
       "\n",
       "#sk-container-id-1 div.sk-toggleable__content.fitted pre {\n",
       "  /* unfitted */\n",
       "  background-color: var(--sklearn-color-fitted-level-0);\n",
       "}\n",
       "\n",
       "#sk-container-id-1 input.sk-toggleable__control:checked~div.sk-toggleable__content {\n",
       "  /* Expand drop-down */\n",
       "  max-height: 200px;\n",
       "  max-width: 100%;\n",
       "  overflow: auto;\n",
       "}\n",
       "\n",
       "#sk-container-id-1 input.sk-toggleable__control:checked~label.sk-toggleable__label-arrow:before {\n",
       "  content: \"▾\";\n",
       "}\n",
       "\n",
       "/* Pipeline/ColumnTransformer-specific style */\n",
       "\n",
       "#sk-container-id-1 div.sk-label input.sk-toggleable__control:checked~label.sk-toggleable__label {\n",
       "  color: var(--sklearn-color-text);\n",
       "  background-color: var(--sklearn-color-unfitted-level-2);\n",
       "}\n",
       "\n",
       "#sk-container-id-1 div.sk-label.fitted input.sk-toggleable__control:checked~label.sk-toggleable__label {\n",
       "  background-color: var(--sklearn-color-fitted-level-2);\n",
       "}\n",
       "\n",
       "/* Estimator-specific style */\n",
       "\n",
       "/* Colorize estimator box */\n",
       "#sk-container-id-1 div.sk-estimator input.sk-toggleable__control:checked~label.sk-toggleable__label {\n",
       "  /* unfitted */\n",
       "  background-color: var(--sklearn-color-unfitted-level-2);\n",
       "}\n",
       "\n",
       "#sk-container-id-1 div.sk-estimator.fitted input.sk-toggleable__control:checked~label.sk-toggleable__label {\n",
       "  /* fitted */\n",
       "  background-color: var(--sklearn-color-fitted-level-2);\n",
       "}\n",
       "\n",
       "#sk-container-id-1 div.sk-label label.sk-toggleable__label,\n",
       "#sk-container-id-1 div.sk-label label {\n",
       "  /* The background is the default theme color */\n",
       "  color: var(--sklearn-color-text-on-default-background);\n",
       "}\n",
       "\n",
       "/* On hover, darken the color of the background */\n",
       "#sk-container-id-1 div.sk-label:hover label.sk-toggleable__label {\n",
       "  color: var(--sklearn-color-text);\n",
       "  background-color: var(--sklearn-color-unfitted-level-2);\n",
       "}\n",
       "\n",
       "/* Label box, darken color on hover, fitted */\n",
       "#sk-container-id-1 div.sk-label.fitted:hover label.sk-toggleable__label.fitted {\n",
       "  color: var(--sklearn-color-text);\n",
       "  background-color: var(--sklearn-color-fitted-level-2);\n",
       "}\n",
       "\n",
       "/* Estimator label */\n",
       "\n",
       "#sk-container-id-1 div.sk-label label {\n",
       "  font-family: monospace;\n",
       "  font-weight: bold;\n",
       "  display: inline-block;\n",
       "  line-height: 1.2em;\n",
       "}\n",
       "\n",
       "#sk-container-id-1 div.sk-label-container {\n",
       "  text-align: center;\n",
       "}\n",
       "\n",
       "/* Estimator-specific */\n",
       "#sk-container-id-1 div.sk-estimator {\n",
       "  font-family: monospace;\n",
       "  border: 1px dotted var(--sklearn-color-border-box);\n",
       "  border-radius: 0.25em;\n",
       "  box-sizing: border-box;\n",
       "  margin-bottom: 0.5em;\n",
       "  /* unfitted */\n",
       "  background-color: var(--sklearn-color-unfitted-level-0);\n",
       "}\n",
       "\n",
       "#sk-container-id-1 div.sk-estimator.fitted {\n",
       "  /* fitted */\n",
       "  background-color: var(--sklearn-color-fitted-level-0);\n",
       "}\n",
       "\n",
       "/* on hover */\n",
       "#sk-container-id-1 div.sk-estimator:hover {\n",
       "  /* unfitted */\n",
       "  background-color: var(--sklearn-color-unfitted-level-2);\n",
       "}\n",
       "\n",
       "#sk-container-id-1 div.sk-estimator.fitted:hover {\n",
       "  /* fitted */\n",
       "  background-color: var(--sklearn-color-fitted-level-2);\n",
       "}\n",
       "\n",
       "/* Specification for estimator info (e.g. \"i\" and \"?\") */\n",
       "\n",
       "/* Common style for \"i\" and \"?\" */\n",
       "\n",
       ".sk-estimator-doc-link,\n",
       "a:link.sk-estimator-doc-link,\n",
       "a:visited.sk-estimator-doc-link {\n",
       "  float: right;\n",
       "  font-size: smaller;\n",
       "  line-height: 1em;\n",
       "  font-family: monospace;\n",
       "  background-color: var(--sklearn-color-background);\n",
       "  border-radius: 1em;\n",
       "  height: 1em;\n",
       "  width: 1em;\n",
       "  text-decoration: none !important;\n",
       "  margin-left: 0.5em;\n",
       "  text-align: center;\n",
       "  /* unfitted */\n",
       "  border: var(--sklearn-color-unfitted-level-1) 1pt solid;\n",
       "  color: var(--sklearn-color-unfitted-level-1);\n",
       "}\n",
       "\n",
       ".sk-estimator-doc-link.fitted,\n",
       "a:link.sk-estimator-doc-link.fitted,\n",
       "a:visited.sk-estimator-doc-link.fitted {\n",
       "  /* fitted */\n",
       "  border: var(--sklearn-color-fitted-level-1) 1pt solid;\n",
       "  color: var(--sklearn-color-fitted-level-1);\n",
       "}\n",
       "\n",
       "/* On hover */\n",
       "div.sk-estimator:hover .sk-estimator-doc-link:hover,\n",
       ".sk-estimator-doc-link:hover,\n",
       "div.sk-label-container:hover .sk-estimator-doc-link:hover,\n",
       ".sk-estimator-doc-link:hover {\n",
       "  /* unfitted */\n",
       "  background-color: var(--sklearn-color-unfitted-level-3);\n",
       "  color: var(--sklearn-color-background);\n",
       "  text-decoration: none;\n",
       "}\n",
       "\n",
       "div.sk-estimator.fitted:hover .sk-estimator-doc-link.fitted:hover,\n",
       ".sk-estimator-doc-link.fitted:hover,\n",
       "div.sk-label-container:hover .sk-estimator-doc-link.fitted:hover,\n",
       ".sk-estimator-doc-link.fitted:hover {\n",
       "  /* fitted */\n",
       "  background-color: var(--sklearn-color-fitted-level-3);\n",
       "  color: var(--sklearn-color-background);\n",
       "  text-decoration: none;\n",
       "}\n",
       "\n",
       "/* Span, style for the box shown on hovering the info icon */\n",
       ".sk-estimator-doc-link span {\n",
       "  display: none;\n",
       "  z-index: 9999;\n",
       "  position: relative;\n",
       "  font-weight: normal;\n",
       "  right: .2ex;\n",
       "  padding: .5ex;\n",
       "  margin: .5ex;\n",
       "  width: min-content;\n",
       "  min-width: 20ex;\n",
       "  max-width: 50ex;\n",
       "  color: var(--sklearn-color-text);\n",
       "  box-shadow: 2pt 2pt 4pt #999;\n",
       "  /* unfitted */\n",
       "  background: var(--sklearn-color-unfitted-level-0);\n",
       "  border: .5pt solid var(--sklearn-color-unfitted-level-3);\n",
       "}\n",
       "\n",
       ".sk-estimator-doc-link.fitted span {\n",
       "  /* fitted */\n",
       "  background: var(--sklearn-color-fitted-level-0);\n",
       "  border: var(--sklearn-color-fitted-level-3);\n",
       "}\n",
       "\n",
       ".sk-estimator-doc-link:hover span {\n",
       "  display: block;\n",
       "}\n",
       "\n",
       "/* \"?\"-specific style due to the `<a>` HTML tag */\n",
       "\n",
       "#sk-container-id-1 a.estimator_doc_link {\n",
       "  float: right;\n",
       "  font-size: 1rem;\n",
       "  line-height: 1em;\n",
       "  font-family: monospace;\n",
       "  background-color: var(--sklearn-color-background);\n",
       "  border-radius: 1rem;\n",
       "  height: 1rem;\n",
       "  width: 1rem;\n",
       "  text-decoration: none;\n",
       "  /* unfitted */\n",
       "  color: var(--sklearn-color-unfitted-level-1);\n",
       "  border: var(--sklearn-color-unfitted-level-1) 1pt solid;\n",
       "}\n",
       "\n",
       "#sk-container-id-1 a.estimator_doc_link.fitted {\n",
       "  /* fitted */\n",
       "  border: var(--sklearn-color-fitted-level-1) 1pt solid;\n",
       "  color: var(--sklearn-color-fitted-level-1);\n",
       "}\n",
       "\n",
       "/* On hover */\n",
       "#sk-container-id-1 a.estimator_doc_link:hover {\n",
       "  /* unfitted */\n",
       "  background-color: var(--sklearn-color-unfitted-level-3);\n",
       "  color: var(--sklearn-color-background);\n",
       "  text-decoration: none;\n",
       "}\n",
       "\n",
       "#sk-container-id-1 a.estimator_doc_link.fitted:hover {\n",
       "  /* fitted */\n",
       "  background-color: var(--sklearn-color-fitted-level-3);\n",
       "}\n",
       "</style><div id=\"sk-container-id-1\" class=\"sk-top-container\"><div class=\"sk-text-repr-fallback\"><pre>LogisticRegression(C=1, max_iter=1000)</pre><b>In a Jupyter environment, please rerun this cell to show the HTML representation or trust the notebook. <br />On GitHub, the HTML representation is unable to render, please try loading this page with nbviewer.org.</b></div><div class=\"sk-container\" hidden><div class=\"sk-item\"><div class=\"sk-estimator fitted sk-toggleable\"><input class=\"sk-toggleable__control sk-hidden--visually\" id=\"sk-estimator-id-1\" type=\"checkbox\" checked><label for=\"sk-estimator-id-1\" class=\"sk-toggleable__label fitted sk-toggleable__label-arrow\"><div><div>LogisticRegression</div></div><div><a class=\"sk-estimator-doc-link fitted\" rel=\"noreferrer\" target=\"_blank\" href=\"https://scikit-learn.org/1.6/modules/generated/sklearn.linear_model.LogisticRegression.html\">?<span>Documentation for LogisticRegression</span></a><span class=\"sk-estimator-doc-link fitted\">i<span>Fitted</span></span></div></label><div class=\"sk-toggleable__content fitted\"><pre>LogisticRegression(C=1, max_iter=1000)</pre></div> </div></div></div></div>"
      ],
      "text/plain": [
       "LogisticRegression(C=1, max_iter=1000)"
      ]
     },
     "execution_count": 32,
     "metadata": {},
     "output_type": "execute_result"
    }
   ],
   "source": [
    "%%time\n",
    "logRegHP.fit(X_train, y_train)"
   ]
  },
  {
   "cell_type": "code",
   "execution_count": 33,
   "id": "610d857d-8791-4857-83b7-773256e8e06e",
   "metadata": {},
   "outputs": [
    {
     "data": {
      "text/plain": [
       "array([0, 0, 0, ..., 1, 1, 0], dtype=int64)"
      ]
     },
     "execution_count": 33,
     "metadata": {},
     "output_type": "execute_result"
    }
   ],
   "source": [
    "y_pred04 = logRegHP.predict(X_test)\n",
    "y_pred04"
   ]
  },
  {
   "cell_type": "code",
   "execution_count": 34,
   "id": "914b37f0-a83b-49a6-8bcb-e03487a2b56b",
   "metadata": {},
   "outputs": [
    {
     "data": {
      "text/plain": [
       "array([[6.75348241e-01, 3.24651759e-01],\n",
       "       [8.15698048e-01, 1.84301952e-01],\n",
       "       [6.58452056e-01, 3.41547944e-01],\n",
       "       ...,\n",
       "       [3.81999114e-01, 6.18000886e-01],\n",
       "       [2.50864884e-10, 1.00000000e+00],\n",
       "       [9.23863619e-01, 7.61363805e-02]])"
      ]
     },
     "execution_count": 34,
     "metadata": {},
     "output_type": "execute_result"
    }
   ],
   "source": [
    "y_pred_prob04 = logRegHP.predict_proba(X_test)\n",
    "y_pred_prob04"
   ]
  },
  {
   "cell_type": "code",
   "execution_count": 35,
   "id": "b9b6fd87-2fa5-46f5-8958-5da7e6c11101",
   "metadata": {},
   "outputs": [
    {
     "data": {
      "text/plain": [
       "0.8225"
      ]
     },
     "execution_count": 35,
     "metadata": {},
     "output_type": "execute_result"
    }
   ],
   "source": [
    "accuracy04 = accuracy_score(y_test, y_pred04)\n",
    "accuracy04"
   ]
  },
  {
   "cell_type": "code",
   "execution_count": 36,
   "id": "e0d7c9c2-f15b-4826-b150-5b6e95bfcba5",
   "metadata": {},
   "outputs": [
    {
     "data": {
      "text/plain": [
       "array([[1206,   78],\n",
       "       [ 277,  439]], dtype=int64)"
      ]
     },
     "execution_count": 36,
     "metadata": {},
     "output_type": "execute_result"
    }
   ],
   "source": [
    "cmLogRegHp = metrics.confusion_matrix(y_test, y_pred04)\n",
    "cmLogRegHp"
   ]
  },
  {
   "cell_type": "code",
   "execution_count": 37,
   "id": "243d6f9e-1771-48c0-ab93-73491bb413c2",
   "metadata": {},
   "outputs": [
    {
     "data": {
      "image/png": "[encoded data removed]",
      "text/plain": [
       "<Figure size 800x600 with 1 Axes>"
      ]
     },
     "metadata": {},
     "output_type": "display_data"
    }
   ],
   "source": [
    "# plot\n",
    "fig, ax = plt.subplots(1, 1, figsize = (8, 6))\n",
    "fig.subplots_adjust(left = 0.02, right = 0.98, wspace = 0.2)\n",
    "confuseLabels = ('Failed', 'Successful')\n",
    "# Confusion Matrix\n",
    "sns.heatmap(cmLogRegHp.T, square= True, annot= True, fmt= 'd',cbar= False, \n",
    "            cmap= 'Blues', ax= ax, xticklabels= confuseLabels, yticklabels= confuseLabels)\n",
    "\n",
    "# Title \n",
    "ax.set_title('Logistic Regression Confusion Matrix')\n",
    "ax.set_xlabel('True label')\n",
    "ax.set_ylabel('Predicted label')\n",
    "\n",
    "savePlotFunction(40)"
   ]
  },
  {
   "cell_type": "code",
   "execution_count": 38,
   "id": "b5ab06a4-8c18-4a08-b55f-547b3c070411",
   "metadata": {},
   "outputs": [
    {
     "name": "stdout",
     "output_type": "stream",
     "text": [
      "              precision    recall  f1-score   support\n",
      "\n",
      "           0       0.81      0.94      0.87      1284\n",
      "           1       0.85      0.61      0.71       716\n",
      "\n",
      "    accuracy                           0.82      2000\n",
      "   macro avg       0.83      0.78      0.79      2000\n",
      "weighted avg       0.83      0.82      0.81      2000\n",
      "\n"
     ]
    }
   ],
   "source": [
    "logRegClassReport = classification_report(y_test, y_pred04)\n",
    "print(logRegClassReport)"
   ]
  },
  {
   "cell_type": "markdown",
   "id": "b48dc5ba-34db-4b61-bb30-7f8040f73856",
   "metadata": {
    "jp-MarkdownHeadingCollapsed": true
   },
   "source": [
    "## GradientBoost (05)"
   ]
  },
  {
   "cell_type": "code",
   "execution_count": 40,
   "id": "0b4263bf-1f49-4927-873f-466f71785aea",
   "metadata": {},
   "outputs": [],
   "source": [
    "grb = GradientBoostingClassifier()"
   ]
  },
  {
   "cell_type": "code",
   "execution_count": 41,
   "id": "f0ebcee5-dfaf-4d05-b2b2-0654a05705c8",
   "metadata": {},
   "outputs": [],
   "source": [
    "# grb_param_grid = [{\n",
    "#     'learning_rate': [0.5, 1.0, 1.5, 2.0],\n",
    "#     'n_estimators': [10, 20, 30, 40, 50],\n",
    "#     'loss': ['exponential', 'log_loss']\n",
    "# }]\n",
    "\n",
    "    "
   ]
  },
  {
   "cell_type": "code",
   "execution_count": 42,
   "id": "208c67ba-fe14-41dd-b01d-896d7f19d3bc",
   "metadata": {},
   "outputs": [],
   "source": [
    "# grb_grid_search = GridSearchCV(grb,\n",
    "#                                grb_param_grid,\n",
    "#                                cv=2,\n",
    "#                                scoring='accuracy',\n",
    "#                                n_jobs=-1)"
   ]
  },
  {
   "cell_type": "code",
   "execution_count": 43,
   "id": "e4689314-e40b-4774-b0b8-a1eddfd62fad",
   "metadata": {
    "scrolled": true
   },
   "outputs": [],
   "source": [
    "# %%time\n",
    "# grb_grid_search.fit(X, y)"
   ]
  },
  {
   "cell_type": "raw",
   "id": "8a72b462-f39c-4704-9397-dfa88efa54dd",
   "metadata": {},
   "source": [
    "GridSearchCV(cv=2, estimator=GradientBoostingClassifier(), n_jobs=-1,\n",
    "             param_grid=[{'learning_rate': [0.5, 1.0, 1.5, 2.0],\n",
    "                          'loss': ['exponential', 'log_loss'],\n",
    "                          'n_estimators': [10, 20, 30, 40, 50]}],\n",
    "             scoring='accuracy')\n",
    "\n",
    "best_estimator_: GradientBoostingClassifier\n",
    "GradientBoostingClassifier(learning_rate=0.5, n_estimators=40)\n",
    "\n",
    "GradientBoostingClassifier\n",
    "\n",
    "GradientBoostingClassifier(learning_rate=0.5, n_estimators=40)"
   ]
  },
  {
   "cell_type": "code",
   "execution_count": 44,
   "id": "54b738bb-328b-4482-aba2-7ddb8927eb9c",
   "metadata": {},
   "outputs": [],
   "source": [
    "# grb_grid_search.best_score_"
   ]
  },
  {
   "cell_type": "code",
   "execution_count": 45,
   "id": "4dccd6d4-4f34-42b7-938a-64e28f9870ac",
   "metadata": {},
   "outputs": [],
   "source": [
    "# grb_grid_search.best_params_"
   ]
  },
  {
   "cell_type": "code",
   "execution_count": 46,
   "id": "b8fef72c-56f8-4688-9e45-273d7bb066f3",
   "metadata": {},
   "outputs": [
    {
     "data": {
      "text/html": [
       "<style>#sk-container-id-2 {\n",
       "  /* Definition of color scheme common for light and dark mode */\n",
       "  --sklearn-color-text: #000;\n",
       "  --sklearn-color-text-muted: #666;\n",
       "  --sklearn-color-line: gray;\n",
       "  /* Definition of color scheme for unfitted estimators */\n",
       "  --sklearn-color-unfitted-level-0: #fff5e6;\n",
       "  --sklearn-color-unfitted-level-1: #f6e4d2;\n",
       "  --sklearn-color-unfitted-level-2: #ffe0b3;\n",
       "  --sklearn-color-unfitted-level-3: chocolate;\n",
       "  /* Definition of color scheme for fitted estimators */\n",
       "  --sklearn-color-fitted-level-0: #f0f8ff;\n",
       "  --sklearn-color-fitted-level-1: #d4ebff;\n",
       "  --sklearn-color-fitted-level-2: #b3dbfd;\n",
       "  --sklearn-color-fitted-level-3: cornflowerblue;\n",
       "\n",
       "  /* Specific color for light theme */\n",
       "  --sklearn-color-text-on-default-background: var(--sg-text-color, var(--theme-code-foreground, var(--jp-content-font-color1, black)));\n",
       "  --sklearn-color-background: var(--sg-background-color, var(--theme-background, var(--jp-layout-color0, white)));\n",
       "  --sklearn-color-border-box: var(--sg-text-color, var(--theme-code-foreground, var(--jp-content-font-color1, black)));\n",
       "  --sklearn-color-icon: #696969;\n",
       "\n",
       "  @media (prefers-color-scheme: dark) {\n",
       "    /* Redefinition of color scheme for dark theme */\n",
       "    --sklearn-color-text-on-default-background: var(--sg-text-color, var(--theme-code-foreground, var(--jp-content-font-color1, white)));\n",
       "    --sklearn-color-background: var(--sg-background-color, var(--theme-background, var(--jp-layout-color0, #111)));\n",
       "    --sklearn-color-border-box: var(--sg-text-color, var(--theme-code-foreground, var(--jp-content-font-color1, white)));\n",
       "    --sklearn-color-icon: #878787;\n",
       "  }\n",
       "}\n",
       "\n",
       "#sk-container-id-2 {\n",
       "  color: var(--sklearn-color-text);\n",
       "}\n",
       "\n",
       "#sk-container-id-2 pre {\n",
       "  padding: 0;\n",
       "}\n",
       "\n",
       "#sk-container-id-2 input.sk-hidden--visually {\n",
       "  border: 0;\n",
       "  clip: rect(1px 1px 1px 1px);\n",
       "  clip: rect(1px, 1px, 1px, 1px);\n",
       "  height: 1px;\n",
       "  margin: -1px;\n",
       "  overflow: hidden;\n",
       "  padding: 0;\n",
       "  position: absolute;\n",
       "  width: 1px;\n",
       "}\n",
       "\n",
       "#sk-container-id-2 div.sk-dashed-wrapped {\n",
       "  border: 1px dashed var(--sklearn-color-line);\n",
       "  margin: 0 0.4em 0.5em 0.4em;\n",
       "  box-sizing: border-box;\n",
       "  padding-bottom: 0.4em;\n",
       "  background-color: var(--sklearn-color-background);\n",
       "}\n",
       "\n",
       "#sk-container-id-2 div.sk-container {\n",
       "  /* jupyter's `normalize.less` sets `[hidden] { display: none; }`\n",
       "     but bootstrap.min.css set `[hidden] { display: none !important; }`\n",
       "     so we also need the `!important` here to be able to override the\n",
       "     default hidden behavior on the sphinx rendered scikit-learn.org.\n",
       "     See: https://github.com/scikit-learn/scikit-learn/issues/21755 */\n",
       "  display: inline-block !important;\n",
       "  position: relative;\n",
       "}\n",
       "\n",
       "#sk-container-id-2 div.sk-text-repr-fallback {\n",
       "  display: none;\n",
       "}\n",
       "\n",
       "div.sk-parallel-item,\n",
       "div.sk-serial,\n",
       "div.sk-item {\n",
       "  /* draw centered vertical line to link estimators */\n",
       "  background-image: linear-gradient(var(--sklearn-color-text-on-default-background), var(--sklearn-color-text-on-default-background));\n",
       "  background-size: 2px 100%;\n",
       "  background-repeat: no-repeat;\n",
       "  background-position: center center;\n",
       "}\n",
       "\n",
       "/* Parallel-specific style estimator block */\n",
       "\n",
       "#sk-container-id-2 div.sk-parallel-item::after {\n",
       "  content: \"\";\n",
       "  width: 100%;\n",
       "  border-bottom: 2px solid var(--sklearn-color-text-on-default-background);\n",
       "  flex-grow: 1;\n",
       "}\n",
       "\n",
       "#sk-container-id-2 div.sk-parallel {\n",
       "  display: flex;\n",
       "  align-items: stretch;\n",
       "  justify-content: center;\n",
       "  background-color: var(--sklearn-color-background);\n",
       "  position: relative;\n",
       "}\n",
       "\n",
       "#sk-container-id-2 div.sk-parallel-item {\n",
       "  display: flex;\n",
       "  flex-direction: column;\n",
       "}\n",
       "\n",
       "#sk-container-id-2 div.sk-parallel-item:first-child::after {\n",
       "  align-self: flex-end;\n",
       "  width: 50%;\n",
       "}\n",
       "\n",
       "#sk-container-id-2 div.sk-parallel-item:last-child::after {\n",
       "  align-self: flex-start;\n",
       "  width: 50%;\n",
       "}\n",
       "\n",
       "#sk-container-id-2 div.sk-parallel-item:only-child::after {\n",
       "  width: 0;\n",
       "}\n",
       "\n",
       "/* Serial-specific style estimator block */\n",
       "\n",
       "#sk-container-id-2 div.sk-serial {\n",
       "  display: flex;\n",
       "  flex-direction: column;\n",
       "  align-items: center;\n",
       "  background-color: var(--sklearn-color-background);\n",
       "  padding-right: 1em;\n",
       "  padding-left: 1em;\n",
       "}\n",
       "\n",
       "\n",
       "/* Toggleable style: style used for estimator/Pipeline/ColumnTransformer box that is\n",
       "clickable and can be expanded/collapsed.\n",
       "- Pipeline and ColumnTransformer use this feature and define the default style\n",
       "- Estimators will overwrite some part of the style using the `sk-estimator` class\n",
       "*/\n",
       "\n",
       "/* Pipeline and ColumnTransformer style (default) */\n",
       "\n",
       "#sk-container-id-2 div.sk-toggleable {\n",
       "  /* Default theme specific background. It is overwritten whether we have a\n",
       "  specific estimator or a Pipeline/ColumnTransformer */\n",
       "  background-color: var(--sklearn-color-background);\n",
       "}\n",
       "\n",
       "/* Toggleable label */\n",
       "#sk-container-id-2 label.sk-toggleable__label {\n",
       "  cursor: pointer;\n",
       "  display: flex;\n",
       "  width: 100%;\n",
       "  margin-bottom: 0;\n",
       "  padding: 0.5em;\n",
       "  box-sizing: border-box;\n",
       "  text-align: center;\n",
       "  align-items: start;\n",
       "  justify-content: space-between;\n",
       "  gap: 0.5em;\n",
       "}\n",
       "\n",
       "#sk-container-id-2 label.sk-toggleable__label .caption {\n",
       "  font-size: 0.6rem;\n",
       "  font-weight: lighter;\n",
       "  color: var(--sklearn-color-text-muted);\n",
       "}\n",
       "\n",
       "#sk-container-id-2 label.sk-toggleable__label-arrow:before {\n",
       "  /* Arrow on the left of the label */\n",
       "  content: \"▸\";\n",
       "  float: left;\n",
       "  margin-right: 0.25em;\n",
       "  color: var(--sklearn-color-icon);\n",
       "}\n",
       "\n",
       "#sk-container-id-2 label.sk-toggleable__label-arrow:hover:before {\n",
       "  color: var(--sklearn-color-text);\n",
       "}\n",
       "\n",
       "/* Toggleable content - dropdown */\n",
       "\n",
       "#sk-container-id-2 div.sk-toggleable__content {\n",
       "  max-height: 0;\n",
       "  max-width: 0;\n",
       "  overflow: hidden;\n",
       "  text-align: left;\n",
       "  /* unfitted */\n",
       "  background-color: var(--sklearn-color-unfitted-level-0);\n",
       "}\n",
       "\n",
       "#sk-container-id-2 div.sk-toggleable__content.fitted {\n",
       "  /* fitted */\n",
       "  background-color: var(--sklearn-color-fitted-level-0);\n",
       "}\n",
       "\n",
       "#sk-container-id-2 div.sk-toggleable__content pre {\n",
       "  margin: 0.2em;\n",
       "  border-radius: 0.25em;\n",
       "  color: var(--sklearn-color-text);\n",
       "  /* unfitted */\n",
       "  background-color: var(--sklearn-color-unfitted-level-0);\n",
       "}\n",
       "\n",
       "#sk-container-id-2 div.sk-toggleable__content.fitted pre {\n",
       "  /* unfitted */\n",
       "  background-color: var(--sklearn-color-fitted-level-0);\n",
       "}\n",
       "\n",
       "#sk-container-id-2 input.sk-toggleable__control:checked~div.sk-toggleable__content {\n",
       "  /* Expand drop-down */\n",
       "  max-height: 200px;\n",
       "  max-width: 100%;\n",
       "  overflow: auto;\n",
       "}\n",
       "\n",
       "#sk-container-id-2 input.sk-toggleable__control:checked~label.sk-toggleable__label-arrow:before {\n",
       "  content: \"▾\";\n",
       "}\n",
       "\n",
       "/* Pipeline/ColumnTransformer-specific style */\n",
       "\n",
       "#sk-container-id-2 div.sk-label input.sk-toggleable__control:checked~label.sk-toggleable__label {\n",
       "  color: var(--sklearn-color-text);\n",
       "  background-color: var(--sklearn-color-unfitted-level-2);\n",
       "}\n",
       "\n",
       "#sk-container-id-2 div.sk-label.fitted input.sk-toggleable__control:checked~label.sk-toggleable__label {\n",
       "  background-color: var(--sklearn-color-fitted-level-2);\n",
       "}\n",
       "\n",
       "/* Estimator-specific style */\n",
       "\n",
       "/* Colorize estimator box */\n",
       "#sk-container-id-2 div.sk-estimator input.sk-toggleable__control:checked~label.sk-toggleable__label {\n",
       "  /* unfitted */\n",
       "  background-color: var(--sklearn-color-unfitted-level-2);\n",
       "}\n",
       "\n",
       "#sk-container-id-2 div.sk-estimator.fitted input.sk-toggleable__control:checked~label.sk-toggleable__label {\n",
       "  /* fitted */\n",
       "  background-color: var(--sklearn-color-fitted-level-2);\n",
       "}\n",
       "\n",
       "#sk-container-id-2 div.sk-label label.sk-toggleable__label,\n",
       "#sk-container-id-2 div.sk-label label {\n",
       "  /* The background is the default theme color */\n",
       "  color: var(--sklearn-color-text-on-default-background);\n",
       "}\n",
       "\n",
       "/* On hover, darken the color of the background */\n",
       "#sk-container-id-2 div.sk-label:hover label.sk-toggleable__label {\n",
       "  color: var(--sklearn-color-text);\n",
       "  background-color: var(--sklearn-color-unfitted-level-2);\n",
       "}\n",
       "\n",
       "/* Label box, darken color on hover, fitted */\n",
       "#sk-container-id-2 div.sk-label.fitted:hover label.sk-toggleable__label.fitted {\n",
       "  color: var(--sklearn-color-text);\n",
       "  background-color: var(--sklearn-color-fitted-level-2);\n",
       "}\n",
       "\n",
       "/* Estimator label */\n",
       "\n",
       "#sk-container-id-2 div.sk-label label {\n",
       "  font-family: monospace;\n",
       "  font-weight: bold;\n",
       "  display: inline-block;\n",
       "  line-height: 1.2em;\n",
       "}\n",
       "\n",
       "#sk-container-id-2 div.sk-label-container {\n",
       "  text-align: center;\n",
       "}\n",
       "\n",
       "/* Estimator-specific */\n",
       "#sk-container-id-2 div.sk-estimator {\n",
       "  font-family: monospace;\n",
       "  border: 1px dotted var(--sklearn-color-border-box);\n",
       "  border-radius: 0.25em;\n",
       "  box-sizing: border-box;\n",
       "  margin-bottom: 0.5em;\n",
       "  /* unfitted */\n",
       "  background-color: var(--sklearn-color-unfitted-level-0);\n",
       "}\n",
       "\n",
       "#sk-container-id-2 div.sk-estimator.fitted {\n",
       "  /* fitted */\n",
       "  background-color: var(--sklearn-color-fitted-level-0);\n",
       "}\n",
       "\n",
       "/* on hover */\n",
       "#sk-container-id-2 div.sk-estimator:hover {\n",
       "  /* unfitted */\n",
       "  background-color: var(--sklearn-color-unfitted-level-2);\n",
       "}\n",
       "\n",
       "#sk-container-id-2 div.sk-estimator.fitted:hover {\n",
       "  /* fitted */\n",
       "  background-color: var(--sklearn-color-fitted-level-2);\n",
       "}\n",
       "\n",
       "/* Specification for estimator info (e.g. \"i\" and \"?\") */\n",
       "\n",
       "/* Common style for \"i\" and \"?\" */\n",
       "\n",
       ".sk-estimator-doc-link,\n",
       "a:link.sk-estimator-doc-link,\n",
       "a:visited.sk-estimator-doc-link {\n",
       "  float: right;\n",
       "  font-size: smaller;\n",
       "  line-height: 1em;\n",
       "  font-family: monospace;\n",
       "  background-color: var(--sklearn-color-background);\n",
       "  border-radius: 1em;\n",
       "  height: 1em;\n",
       "  width: 1em;\n",
       "  text-decoration: none !important;\n",
       "  margin-left: 0.5em;\n",
       "  text-align: center;\n",
       "  /* unfitted */\n",
       "  border: var(--sklearn-color-unfitted-level-1) 1pt solid;\n",
       "  color: var(--sklearn-color-unfitted-level-1);\n",
       "}\n",
       "\n",
       ".sk-estimator-doc-link.fitted,\n",
       "a:link.sk-estimator-doc-link.fitted,\n",
       "a:visited.sk-estimator-doc-link.fitted {\n",
       "  /* fitted */\n",
       "  border: var(--sklearn-color-fitted-level-1) 1pt solid;\n",
       "  color: var(--sklearn-color-fitted-level-1);\n",
       "}\n",
       "\n",
       "/* On hover */\n",
       "div.sk-estimator:hover .sk-estimator-doc-link:hover,\n",
       ".sk-estimator-doc-link:hover,\n",
       "div.sk-label-container:hover .sk-estimator-doc-link:hover,\n",
       ".sk-estimator-doc-link:hover {\n",
       "  /* unfitted */\n",
       "  background-color: var(--sklearn-color-unfitted-level-3);\n",
       "  color: var(--sklearn-color-background);\n",
       "  text-decoration: none;\n",
       "}\n",
       "\n",
       "div.sk-estimator.fitted:hover .sk-estimator-doc-link.fitted:hover,\n",
       ".sk-estimator-doc-link.fitted:hover,\n",
       "div.sk-label-container:hover .sk-estimator-doc-link.fitted:hover,\n",
       ".sk-estimator-doc-link.fitted:hover {\n",
       "  /* fitted */\n",
       "  background-color: var(--sklearn-color-fitted-level-3);\n",
       "  color: var(--sklearn-color-background);\n",
       "  text-decoration: none;\n",
       "}\n",
       "\n",
       "/* Span, style for the box shown on hovering the info icon */\n",
       ".sk-estimator-doc-link span {\n",
       "  display: none;\n",
       "  z-index: 9999;\n",
       "  position: relative;\n",
       "  font-weight: normal;\n",
       "  right: .2ex;\n",
       "  padding: .5ex;\n",
       "  margin: .5ex;\n",
       "  width: min-content;\n",
       "  min-width: 20ex;\n",
       "  max-width: 50ex;\n",
       "  color: var(--sklearn-color-text);\n",
       "  box-shadow: 2pt 2pt 4pt #999;\n",
       "  /* unfitted */\n",
       "  background: var(--sklearn-color-unfitted-level-0);\n",
       "  border: .5pt solid var(--sklearn-color-unfitted-level-3);\n",
       "}\n",
       "\n",
       ".sk-estimator-doc-link.fitted span {\n",
       "  /* fitted */\n",
       "  background: var(--sklearn-color-fitted-level-0);\n",
       "  border: var(--sklearn-color-fitted-level-3);\n",
       "}\n",
       "\n",
       ".sk-estimator-doc-link:hover span {\n",
       "  display: block;\n",
       "}\n",
       "\n",
       "/* \"?\"-specific style due to the `<a>` HTML tag */\n",
       "\n",
       "#sk-container-id-2 a.estimator_doc_link {\n",
       "  float: right;\n",
       "  font-size: 1rem;\n",
       "  line-height: 1em;\n",
       "  font-family: monospace;\n",
       "  background-color: var(--sklearn-color-background);\n",
       "  border-radius: 1rem;\n",
       "  height: 1rem;\n",
       "  width: 1rem;\n",
       "  text-decoration: none;\n",
       "  /* unfitted */\n",
       "  color: var(--sklearn-color-unfitted-level-1);\n",
       "  border: var(--sklearn-color-unfitted-level-1) 1pt solid;\n",
       "}\n",
       "\n",
       "#sk-container-id-2 a.estimator_doc_link.fitted {\n",
       "  /* fitted */\n",
       "  border: var(--sklearn-color-fitted-level-1) 1pt solid;\n",
       "  color: var(--sklearn-color-fitted-level-1);\n",
       "}\n",
       "\n",
       "/* On hover */\n",
       "#sk-container-id-2 a.estimator_doc_link:hover {\n",
       "  /* unfitted */\n",
       "  background-color: var(--sklearn-color-unfitted-level-3);\n",
       "  color: var(--sklearn-color-background);\n",
       "  text-decoration: none;\n",
       "}\n",
       "\n",
       "#sk-container-id-2 a.estimator_doc_link.fitted:hover {\n",
       "  /* fitted */\n",
       "  background-color: var(--sklearn-color-fitted-level-3);\n",
       "}\n",
       "</style><div id=\"sk-container-id-2\" class=\"sk-top-container\"><div class=\"sk-text-repr-fallback\"><pre>GradientBoostingClassifier()</pre><b>In a Jupyter environment, please rerun this cell to show the HTML representation or trust the notebook. <br />On GitHub, the HTML representation is unable to render, please try loading this page with nbviewer.org.</b></div><div class=\"sk-container\" hidden><div class=\"sk-item\"><div class=\"sk-estimator fitted sk-toggleable\"><input class=\"sk-toggleable__control sk-hidden--visually\" id=\"sk-estimator-id-2\" type=\"checkbox\" checked><label for=\"sk-estimator-id-2\" class=\"sk-toggleable__label fitted sk-toggleable__label-arrow\"><div><div>GradientBoostingClassifier</div></div><div><a class=\"sk-estimator-doc-link fitted\" rel=\"noreferrer\" target=\"_blank\" href=\"https://scikit-learn.org/1.6/modules/generated/sklearn.ensemble.GradientBoostingClassifier.html\">?<span>Documentation for GradientBoostingClassifier</span></a><span class=\"sk-estimator-doc-link fitted\">i<span>Fitted</span></span></div></label><div class=\"sk-toggleable__content fitted\"><pre>GradientBoostingClassifier()</pre></div> </div></div></div></div>"
      ],
      "text/plain": [
       "GradientBoostingClassifier()"
      ]
     },
     "execution_count": 46,
     "metadata": {},
     "output_type": "execute_result"
    }
   ],
   "source": [
    "grb.fit(X, y)"
   ]
  },
  {
   "cell_type": "code",
   "execution_count": 47,
   "id": "0cb7d52e-16dc-432e-9fa5-2c78360332c4",
   "metadata": {},
   "outputs": [
    {
     "data": {
      "text/plain": [
       "array([1, 0, 0, ..., 1, 1, 0], dtype=int64)"
      ]
     },
     "execution_count": 47,
     "metadata": {},
     "output_type": "execute_result"
    }
   ],
   "source": [
    "y_pred07 = grb.predict(X_test)\n",
    "y_pred07"
   ]
  },
  {
   "cell_type": "code",
   "execution_count": 48,
   "id": "807ee1be-c951-4fab-9e91-6b7eccbb7bf7",
   "metadata": {},
   "outputs": [
    {
     "data": {
      "text/plain": [
       "array([[0.23306535, 0.76693465],\n",
       "       [0.99239118, 0.00760882],\n",
       "       [0.98980005, 0.01019995],\n",
       "       ...,\n",
       "       [0.13889829, 0.86110171],\n",
       "       [0.02330939, 0.97669061],\n",
       "       [0.86674802, 0.13325198]])"
      ]
     },
     "execution_count": 48,
     "metadata": {},
     "output_type": "execute_result"
    }
   ],
   "source": [
    "y_pred_prob07 = grb.predict_proba(X_test)\n",
    "y_pred_prob07"
   ]
  },
  {
   "cell_type": "code",
   "execution_count": 49,
   "id": "68b4abff-9bbb-411e-954e-45142f1b6496",
   "metadata": {},
   "outputs": [
    {
     "data": {
      "text/plain": [
       "0.8695"
      ]
     },
     "execution_count": 49,
     "metadata": {},
     "output_type": "execute_result"
    }
   ],
   "source": [
    "accuracy07 = accuracy_score(y_test, y_pred07)\n",
    "accuracy07"
   ]
  },
  {
   "cell_type": "code",
   "execution_count": 50,
   "id": "ca0603d8-cdfc-45c4-9f33-e7dcbbcae019",
   "metadata": {},
   "outputs": [
    {
     "data": {
      "text/plain": [
       "array([[1131,  153],\n",
       "       [ 108,  608]], dtype=int64)"
      ]
     },
     "execution_count": 50,
     "metadata": {},
     "output_type": "execute_result"
    }
   ],
   "source": [
    "cmGrb = metrics.confusion_matrix(y_test, y_pred07)\n",
    "cmGrb"
   ]
  },
  {
   "cell_type": "code",
   "execution_count": 51,
   "id": "f4d7dfb2-43bd-428f-95e0-9ec5b9dac57e",
   "metadata": {},
   "outputs": [
    {
     "data": {
      "image/png": "[encoded data removed]",
      "text/plain": [
       "<Figure size 800x600 with 1 Axes>"
      ]
     },
     "metadata": {},
     "output_type": "display_data"
    }
   ],
   "source": [
    "# plot\n",
    "fig, ax = plt.subplots(1, 1, figsize = (8, 6))\n",
    "fig.subplots_adjust(left = 0.02, right = 0.98, wspace = 0.2)\n",
    "\n",
    "# Confusion Matrix\n",
    "sns.heatmap(cmGrb.T, square= True, annot= True, fmt= 'd',cbar= False, cmap= 'Greens', \n",
    "            ax= ax, xticklabels= confuseLabels, yticklabels= confuseLabels)\n",
    "\n",
    "# Title \n",
    "ax.set_title('Gradient Boosting Confusion Matrix')\n",
    "ax.set_xlabel('True label')\n",
    "ax.set_ylabel('Predicted label')\n",
    "\n",
    "savePlotFunction(45)"
   ]
  },
  {
   "cell_type": "code",
   "execution_count": 52,
   "id": "3a823197-a63b-4e5b-a80f-706c2d4ca54c",
   "metadata": {},
   "outputs": [
    {
     "name": "stdout",
     "output_type": "stream",
     "text": [
      "              precision    recall  f1-score   support\n",
      "\n",
      "           0       0.91      0.88      0.90      1284\n",
      "           1       0.80      0.85      0.82       716\n",
      "\n",
      "    accuracy                           0.87      2000\n",
      "   macro avg       0.86      0.87      0.86      2000\n",
      "weighted avg       0.87      0.87      0.87      2000\n",
      "\n"
     ]
    }
   ],
   "source": [
    "grbClassReport = classification_report(y_test, y_pred07)\n",
    "print(grbClassReport)"
   ]
  },
  {
   "cell_type": "markdown",
   "id": "ae1d1a28-89b1-41c5-bfd5-ccfe1d23c205",
   "metadata": {},
   "source": [
    "## Random Forest Model (06)"
   ]
  },
  {
   "cell_type": "code",
   "execution_count": 54,
   "id": "cd8223f2-1cda-4d12-acf6-7262ade0a88a",
   "metadata": {},
   "outputs": [],
   "source": [
    "# ranFor05 = RandomForestClassifier()"
   ]
  },
  {
   "cell_type": "code",
   "execution_count": 55,
   "id": "40616d73-95af-4bb2-8b22-e7548ae20ca4",
   "metadata": {},
   "outputs": [],
   "source": [
    "# param_grid05 = [{\n",
    "#     'n_estimators': [500, 1000, 1500],\n",
    "#     'criterion': ['entropy', 'gini'],\n",
    "#     'min_samples_split': [5, 10, 15],\n",
    "#     'min_samples_leaf': [1, 2, 4],\n",
    "#     'max_depth': [10, 20, 30],\n",
    "# }]\n",
    "    "
   ]
  },
  {
   "cell_type": "code",
   "execution_count": 56,
   "id": "2a87843b-a3d4-4ee5-bc9a-0441970631e7",
   "metadata": {},
   "outputs": [],
   "source": [
    "# ranFor_grid_search = GridSearchCV(ranFor05,\n",
    "#                              param_grid05,\n",
    "#                              cv=2,\n",
    "#                              scoring='accuracy',\n",
    "#                              n_jobs=-1)"
   ]
  },
  {
   "cell_type": "code",
   "execution_count": 57,
   "id": "b87f4dbd-acfd-47d7-ae3a-0b21428bdc3e",
   "metadata": {},
   "outputs": [],
   "source": [
    "# %%time\n",
    "# ranFor_grid_search.fit(X_train, y_train)"
   ]
  },
  {
   "cell_type": "markdown",
   "id": "af44f869-3d22-49f8-92e1-2e7a75abcede",
   "metadata": {},
   "source": [
    "GridSearchCV(cv=2, estimator=RandomForestClassifier(), n_jobs=-1,\n",
    "             param_grid=[{'criterion': ['entropy', 'gini'],\n",
    "                          'max_depth': [10, 20, 30],\n",
    "                          'min_samples_leaf': [1, 2, 4],\n",
    "                          'min_samples_split': [5, 10, 15],\n",
    "                          'n_estimators': [500, 1000, 1500]}],\n",
    "             scoring='accuracy')\n",
    "\n",
    "best_estimator_: RandomForestClassifier\n",
    "RandomForestClassifier(max_depth=30, min_samples_split=5, n_estimators=1500)\n",
    "\n",
    "RandomForestClassifier\n",
    "\n",
    "RandomForestClassifier(max_depth=30, min_samples_split=5, n_estimators=1500)"
   ]
  },
  {
   "cell_type": "code",
   "execution_count": 59,
   "id": "fea7c472-9136-410c-a630-21bc88584da3",
   "metadata": {},
   "outputs": [],
   "source": [
    "# ranFor_grid_search.best_params_"
   ]
  },
  {
   "cell_type": "code",
   "execution_count": 60,
   "id": "391d2769-5280-4ab0-856c-5a63fe55cef4",
   "metadata": {},
   "outputs": [],
   "source": [
    "# ranFor_grid_search.best_score_"
   ]
  },
  {
   "cell_type": "code",
   "execution_count": 61,
   "id": "2e685cf6-29c4-4021-97d0-e5bf1640f1dd",
   "metadata": {},
   "outputs": [],
   "source": [
    "ranForHP = RandomForestClassifier(n_estimators= 100,\n",
    "                                  criterion= 'gini',\n",
    "                                  min_samples_split= 5,\n",
    "                                  min_samples_leaf= 1,\n",
    "                                  max_depth= 10,\n",
    "                                 )"
   ]
  },
  {
   "cell_type": "code",
   "execution_count": 62,
   "id": "93d76479-e43f-497c-8c49-aa4448e6a88e",
   "metadata": {},
   "outputs": [
    {
     "name": "stdout",
     "output_type": "stream",
     "text": [
      "CPU times: total: 500 ms\n",
      "Wall time: 499 ms\n"
     ]
    },
    {
     "data": {
      "text/html": [
       "<style>#sk-container-id-3 {\n",
       "  /* Definition of color scheme common for light and dark mode */\n",
       "  --sklearn-color-text: #000;\n",
       "  --sklearn-color-text-muted: #666;\n",
       "  --sklearn-color-line: gray;\n",
       "  /* Definition of color scheme for unfitted estimators */\n",
       "  --sklearn-color-unfitted-level-0: #fff5e6;\n",
       "  --sklearn-color-unfitted-level-1: #f6e4d2;\n",
       "  --sklearn-color-unfitted-level-2: #ffe0b3;\n",
       "  --sklearn-color-unfitted-level-3: chocolate;\n",
       "  /* Definition of color scheme for fitted estimators */\n",
       "  --sklearn-color-fitted-level-0: #f0f8ff;\n",
       "  --sklearn-color-fitted-level-1: #d4ebff;\n",
       "  --sklearn-color-fitted-level-2: #b3dbfd;\n",
       "  --sklearn-color-fitted-level-3: cornflowerblue;\n",
       "\n",
       "  /* Specific color for light theme */\n",
       "  --sklearn-color-text-on-default-background: var(--sg-text-color, var(--theme-code-foreground, var(--jp-content-font-color1, black)));\n",
       "  --sklearn-color-background: var(--sg-background-color, var(--theme-background, var(--jp-layout-color0, white)));\n",
       "  --sklearn-color-border-box: var(--sg-text-color, var(--theme-code-foreground, var(--jp-content-font-color1, black)));\n",
       "  --sklearn-color-icon: #696969;\n",
       "\n",
       "  @media (prefers-color-scheme: dark) {\n",
       "    /* Redefinition of color scheme for dark theme */\n",
       "    --sklearn-color-text-on-default-background: var(--sg-text-color, var(--theme-code-foreground, var(--jp-content-font-color1, white)));\n",
       "    --sklearn-color-background: var(--sg-background-color, var(--theme-background, var(--jp-layout-color0, #111)));\n",
       "    --sklearn-color-border-box: var(--sg-text-color, var(--theme-code-foreground, var(--jp-content-font-color1, white)));\n",
       "    --sklearn-color-icon: #878787;\n",
       "  }\n",
       "}\n",
       "\n",
       "#sk-container-id-3 {\n",
       "  color: var(--sklearn-color-text);\n",
       "}\n",
       "\n",
       "#sk-container-id-3 pre {\n",
       "  padding: 0;\n",
       "}\n",
       "\n",
       "#sk-container-id-3 input.sk-hidden--visually {\n",
       "  border: 0;\n",
       "  clip: rect(1px 1px 1px 1px);\n",
       "  clip: rect(1px, 1px, 1px, 1px);\n",
       "  height: 1px;\n",
       "  margin: -1px;\n",
       "  overflow: hidden;\n",
       "  padding: 0;\n",
       "  position: absolute;\n",
       "  width: 1px;\n",
       "}\n",
       "\n",
       "#sk-container-id-3 div.sk-dashed-wrapped {\n",
       "  border: 1px dashed var(--sklearn-color-line);\n",
       "  margin: 0 0.4em 0.5em 0.4em;\n",
       "  box-sizing: border-box;\n",
       "  padding-bottom: 0.4em;\n",
       "  background-color: var(--sklearn-color-background);\n",
       "}\n",
       "\n",
       "#sk-container-id-3 div.sk-container {\n",
       "  /* jupyter's `normalize.less` sets `[hidden] { display: none; }`\n",
       "     but bootstrap.min.css set `[hidden] { display: none !important; }`\n",
       "     so we also need the `!important` here to be able to override the\n",
       "     default hidden behavior on the sphinx rendered scikit-learn.org.\n",
       "     See: https://github.com/scikit-learn/scikit-learn/issues/21755 */\n",
       "  display: inline-block !important;\n",
       "  position: relative;\n",
       "}\n",
       "\n",
       "#sk-container-id-3 div.sk-text-repr-fallback {\n",
       "  display: none;\n",
       "}\n",
       "\n",
       "div.sk-parallel-item,\n",
       "div.sk-serial,\n",
       "div.sk-item {\n",
       "  /* draw centered vertical line to link estimators */\n",
       "  background-image: linear-gradient(var(--sklearn-color-text-on-default-background), var(--sklearn-color-text-on-default-background));\n",
       "  background-size: 2px 100%;\n",
       "  background-repeat: no-repeat;\n",
       "  background-position: center center;\n",
       "}\n",
       "\n",
       "/* Parallel-specific style estimator block */\n",
       "\n",
       "#sk-container-id-3 div.sk-parallel-item::after {\n",
       "  content: \"\";\n",
       "  width: 100%;\n",
       "  border-bottom: 2px solid var(--sklearn-color-text-on-default-background);\n",
       "  flex-grow: 1;\n",
       "}\n",
       "\n",
       "#sk-container-id-3 div.sk-parallel {\n",
       "  display: flex;\n",
       "  align-items: stretch;\n",
       "  justify-content: center;\n",
       "  background-color: var(--sklearn-color-background);\n",
       "  position: relative;\n",
       "}\n",
       "\n",
       "#sk-container-id-3 div.sk-parallel-item {\n",
       "  display: flex;\n",
       "  flex-direction: column;\n",
       "}\n",
       "\n",
       "#sk-container-id-3 div.sk-parallel-item:first-child::after {\n",
       "  align-self: flex-end;\n",
       "  width: 50%;\n",
       "}\n",
       "\n",
       "#sk-container-id-3 div.sk-parallel-item:last-child::after {\n",
       "  align-self: flex-start;\n",
       "  width: 50%;\n",
       "}\n",
       "\n",
       "#sk-container-id-3 div.sk-parallel-item:only-child::after {\n",
       "  width: 0;\n",
       "}\n",
       "\n",
       "/* Serial-specific style estimator block */\n",
       "\n",
       "#sk-container-id-3 div.sk-serial {\n",
       "  display: flex;\n",
       "  flex-direction: column;\n",
       "  align-items: center;\n",
       "  background-color: var(--sklearn-color-background);\n",
       "  padding-right: 1em;\n",
       "  padding-left: 1em;\n",
       "}\n",
       "\n",
       "\n",
       "/* Toggleable style: style used for estimator/Pipeline/ColumnTransformer box that is\n",
       "clickable and can be expanded/collapsed.\n",
       "- Pipeline and ColumnTransformer use this feature and define the default style\n",
       "- Estimators will overwrite some part of the style using the `sk-estimator` class\n",
       "*/\n",
       "\n",
       "/* Pipeline and ColumnTransformer style (default) */\n",
       "\n",
       "#sk-container-id-3 div.sk-toggleable {\n",
       "  /* Default theme specific background. It is overwritten whether we have a\n",
       "  specific estimator or a Pipeline/ColumnTransformer */\n",
       "  background-color: var(--sklearn-color-background);\n",
       "}\n",
       "\n",
       "/* Toggleable label */\n",
       "#sk-container-id-3 label.sk-toggleable__label {\n",
       "  cursor: pointer;\n",
       "  display: flex;\n",
       "  width: 100%;\n",
       "  margin-bottom: 0;\n",
       "  padding: 0.5em;\n",
       "  box-sizing: border-box;\n",
       "  text-align: center;\n",
       "  align-items: start;\n",
       "  justify-content: space-between;\n",
       "  gap: 0.5em;\n",
       "}\n",
       "\n",
       "#sk-container-id-3 label.sk-toggleable__label .caption {\n",
       "  font-size: 0.6rem;\n",
       "  font-weight: lighter;\n",
       "  color: var(--sklearn-color-text-muted);\n",
       "}\n",
       "\n",
       "#sk-container-id-3 label.sk-toggleable__label-arrow:before {\n",
       "  /* Arrow on the left of the label */\n",
       "  content: \"▸\";\n",
       "  float: left;\n",
       "  margin-right: 0.25em;\n",
       "  color: var(--sklearn-color-icon);\n",
       "}\n",
       "\n",
       "#sk-container-id-3 label.sk-toggleable__label-arrow:hover:before {\n",
       "  color: var(--sklearn-color-text);\n",
       "}\n",
       "\n",
       "/* Toggleable content - dropdown */\n",
       "\n",
       "#sk-container-id-3 div.sk-toggleable__content {\n",
       "  max-height: 0;\n",
       "  max-width: 0;\n",
       "  overflow: hidden;\n",
       "  text-align: left;\n",
       "  /* unfitted */\n",
       "  background-color: var(--sklearn-color-unfitted-level-0);\n",
       "}\n",
       "\n",
       "#sk-container-id-3 div.sk-toggleable__content.fitted {\n",
       "  /* fitted */\n",
       "  background-color: var(--sklearn-color-fitted-level-0);\n",
       "}\n",
       "\n",
       "#sk-container-id-3 div.sk-toggleable__content pre {\n",
       "  margin: 0.2em;\n",
       "  border-radius: 0.25em;\n",
       "  color: var(--sklearn-color-text);\n",
       "  /* unfitted */\n",
       "  background-color: var(--sklearn-color-unfitted-level-0);\n",
       "}\n",
       "\n",
       "#sk-container-id-3 div.sk-toggleable__content.fitted pre {\n",
       "  /* unfitted */\n",
       "  background-color: var(--sklearn-color-fitted-level-0);\n",
       "}\n",
       "\n",
       "#sk-container-id-3 input.sk-toggleable__control:checked~div.sk-toggleable__content {\n",
       "  /* Expand drop-down */\n",
       "  max-height: 200px;\n",
       "  max-width: 100%;\n",
       "  overflow: auto;\n",
       "}\n",
       "\n",
       "#sk-container-id-3 input.sk-toggleable__control:checked~label.sk-toggleable__label-arrow:before {\n",
       "  content: \"▾\";\n",
       "}\n",
       "\n",
       "/* Pipeline/ColumnTransformer-specific style */\n",
       "\n",
       "#sk-container-id-3 div.sk-label input.sk-toggleable__control:checked~label.sk-toggleable__label {\n",
       "  color: var(--sklearn-color-text);\n",
       "  background-color: var(--sklearn-color-unfitted-level-2);\n",
       "}\n",
       "\n",
       "#sk-container-id-3 div.sk-label.fitted input.sk-toggleable__control:checked~label.sk-toggleable__label {\n",
       "  background-color: var(--sklearn-color-fitted-level-2);\n",
       "}\n",
       "\n",
       "/* Estimator-specific style */\n",
       "\n",
       "/* Colorize estimator box */\n",
       "#sk-container-id-3 div.sk-estimator input.sk-toggleable__control:checked~label.sk-toggleable__label {\n",
       "  /* unfitted */\n",
       "  background-color: var(--sklearn-color-unfitted-level-2);\n",
       "}\n",
       "\n",
       "#sk-container-id-3 div.sk-estimator.fitted input.sk-toggleable__control:checked~label.sk-toggleable__label {\n",
       "  /* fitted */\n",
       "  background-color: var(--sklearn-color-fitted-level-2);\n",
       "}\n",
       "\n",
       "#sk-container-id-3 div.sk-label label.sk-toggleable__label,\n",
       "#sk-container-id-3 div.sk-label label {\n",
       "  /* The background is the default theme color */\n",
       "  color: var(--sklearn-color-text-on-default-background);\n",
       "}\n",
       "\n",
       "/* On hover, darken the color of the background */\n",
       "#sk-container-id-3 div.sk-label:hover label.sk-toggleable__label {\n",
       "  color: var(--sklearn-color-text);\n",
       "  background-color: var(--sklearn-color-unfitted-level-2);\n",
       "}\n",
       "\n",
       "/* Label box, darken color on hover, fitted */\n",
       "#sk-container-id-3 div.sk-label.fitted:hover label.sk-toggleable__label.fitted {\n",
       "  color: var(--sklearn-color-text);\n",
       "  background-color: var(--sklearn-color-fitted-level-2);\n",
       "}\n",
       "\n",
       "/* Estimator label */\n",
       "\n",
       "#sk-container-id-3 div.sk-label label {\n",
       "  font-family: monospace;\n",
       "  font-weight: bold;\n",
       "  display: inline-block;\n",
       "  line-height: 1.2em;\n",
       "}\n",
       "\n",
       "#sk-container-id-3 div.sk-label-container {\n",
       "  text-align: center;\n",
       "}\n",
       "\n",
       "/* Estimator-specific */\n",
       "#sk-container-id-3 div.sk-estimator {\n",
       "  font-family: monospace;\n",
       "  border: 1px dotted var(--sklearn-color-border-box);\n",
       "  border-radius: 0.25em;\n",
       "  box-sizing: border-box;\n",
       "  margin-bottom: 0.5em;\n",
       "  /* unfitted */\n",
       "  background-color: var(--sklearn-color-unfitted-level-0);\n",
       "}\n",
       "\n",
       "#sk-container-id-3 div.sk-estimator.fitted {\n",
       "  /* fitted */\n",
       "  background-color: var(--sklearn-color-fitted-level-0);\n",
       "}\n",
       "\n",
       "/* on hover */\n",
       "#sk-container-id-3 div.sk-estimator:hover {\n",
       "  /* unfitted */\n",
       "  background-color: var(--sklearn-color-unfitted-level-2);\n",
       "}\n",
       "\n",
       "#sk-container-id-3 div.sk-estimator.fitted:hover {\n",
       "  /* fitted */\n",
       "  background-color: var(--sklearn-color-fitted-level-2);\n",
       "}\n",
       "\n",
       "/* Specification for estimator info (e.g. \"i\" and \"?\") */\n",
       "\n",
       "/* Common style for \"i\" and \"?\" */\n",
       "\n",
       ".sk-estimator-doc-link,\n",
       "a:link.sk-estimator-doc-link,\n",
       "a:visited.sk-estimator-doc-link {\n",
       "  float: right;\n",
       "  font-size: smaller;\n",
       "  line-height: 1em;\n",
       "  font-family: monospace;\n",
       "  background-color: var(--sklearn-color-background);\n",
       "  border-radius: 1em;\n",
       "  height: 1em;\n",
       "  width: 1em;\n",
       "  text-decoration: none !important;\n",
       "  margin-left: 0.5em;\n",
       "  text-align: center;\n",
       "  /* unfitted */\n",
       "  border: var(--sklearn-color-unfitted-level-1) 1pt solid;\n",
       "  color: var(--sklearn-color-unfitted-level-1);\n",
       "}\n",
       "\n",
       ".sk-estimator-doc-link.fitted,\n",
       "a:link.sk-estimator-doc-link.fitted,\n",
       "a:visited.sk-estimator-doc-link.fitted {\n",
       "  /* fitted */\n",
       "  border: var(--sklearn-color-fitted-level-1) 1pt solid;\n",
       "  color: var(--sklearn-color-fitted-level-1);\n",
       "}\n",
       "\n",
       "/* On hover */\n",
       "div.sk-estimator:hover .sk-estimator-doc-link:hover,\n",
       ".sk-estimator-doc-link:hover,\n",
       "div.sk-label-container:hover .sk-estimator-doc-link:hover,\n",
       ".sk-estimator-doc-link:hover {\n",
       "  /* unfitted */\n",
       "  background-color: var(--sklearn-color-unfitted-level-3);\n",
       "  color: var(--sklearn-color-background);\n",
       "  text-decoration: none;\n",
       "}\n",
       "\n",
       "div.sk-estimator.fitted:hover .sk-estimator-doc-link.fitted:hover,\n",
       ".sk-estimator-doc-link.fitted:hover,\n",
       "div.sk-label-container:hover .sk-estimator-doc-link.fitted:hover,\n",
       ".sk-estimator-doc-link.fitted:hover {\n",
       "  /* fitted */\n",
       "  background-color: var(--sklearn-color-fitted-level-3);\n",
       "  color: var(--sklearn-color-background);\n",
       "  text-decoration: none;\n",
       "}\n",
       "\n",
       "/* Span, style for the box shown on hovering the info icon */\n",
       ".sk-estimator-doc-link span {\n",
       "  display: none;\n",
       "  z-index: 9999;\n",
       "  position: relative;\n",
       "  font-weight: normal;\n",
       "  right: .2ex;\n",
       "  padding: .5ex;\n",
       "  margin: .5ex;\n",
       "  width: min-content;\n",
       "  min-width: 20ex;\n",
       "  max-width: 50ex;\n",
       "  color: var(--sklearn-color-text);\n",
       "  box-shadow: 2pt 2pt 4pt #999;\n",
       "  /* unfitted */\n",
       "  background: var(--sklearn-color-unfitted-level-0);\n",
       "  border: .5pt solid var(--sklearn-color-unfitted-level-3);\n",
       "}\n",
       "\n",
       ".sk-estimator-doc-link.fitted span {\n",
       "  /* fitted */\n",
       "  background: var(--sklearn-color-fitted-level-0);\n",
       "  border: var(--sklearn-color-fitted-level-3);\n",
       "}\n",
       "\n",
       ".sk-estimator-doc-link:hover span {\n",
       "  display: block;\n",
       "}\n",
       "\n",
       "/* \"?\"-specific style due to the `<a>` HTML tag */\n",
       "\n",
       "#sk-container-id-3 a.estimator_doc_link {\n",
       "  float: right;\n",
       "  font-size: 1rem;\n",
       "  line-height: 1em;\n",
       "  font-family: monospace;\n",
       "  background-color: var(--sklearn-color-background);\n",
       "  border-radius: 1rem;\n",
       "  height: 1rem;\n",
       "  width: 1rem;\n",
       "  text-decoration: none;\n",
       "  /* unfitted */\n",
       "  color: var(--sklearn-color-unfitted-level-1);\n",
       "  border: var(--sklearn-color-unfitted-level-1) 1pt solid;\n",
       "}\n",
       "\n",
       "#sk-container-id-3 a.estimator_doc_link.fitted {\n",
       "  /* fitted */\n",
       "  border: var(--sklearn-color-fitted-level-1) 1pt solid;\n",
       "  color: var(--sklearn-color-fitted-level-1);\n",
       "}\n",
       "\n",
       "/* On hover */\n",
       "#sk-container-id-3 a.estimator_doc_link:hover {\n",
       "  /* unfitted */\n",
       "  background-color: var(--sklearn-color-unfitted-level-3);\n",
       "  color: var(--sklearn-color-background);\n",
       "  text-decoration: none;\n",
       "}\n",
       "\n",
       "#sk-container-id-3 a.estimator_doc_link.fitted:hover {\n",
       "  /* fitted */\n",
       "  background-color: var(--sklearn-color-fitted-level-3);\n",
       "}\n",
       "</style><div id=\"sk-container-id-3\" class=\"sk-top-container\"><div class=\"sk-text-repr-fallback\"><pre>RandomForestClassifier(max_depth=10, min_samples_split=5)</pre><b>In a Jupyter environment, please rerun this cell to show the HTML representation or trust the notebook. <br />On GitHub, the HTML representation is unable to render, please try loading this page with nbviewer.org.</b></div><div class=\"sk-container\" hidden><div class=\"sk-item\"><div class=\"sk-estimator fitted sk-toggleable\"><input class=\"sk-toggleable__control sk-hidden--visually\" id=\"sk-estimator-id-3\" type=\"checkbox\" checked><label for=\"sk-estimator-id-3\" class=\"sk-toggleable__label fitted sk-toggleable__label-arrow\"><div><div>RandomForestClassifier</div></div><div><a class=\"sk-estimator-doc-link fitted\" rel=\"noreferrer\" target=\"_blank\" href=\"https://scikit-learn.org/1.6/modules/generated/sklearn.ensemble.RandomForestClassifier.html\">?<span>Documentation for RandomForestClassifier</span></a><span class=\"sk-estimator-doc-link fitted\">i<span>Fitted</span></span></div></label><div class=\"sk-toggleable__content fitted\"><pre>RandomForestClassifier(max_depth=10, min_samples_split=5)</pre></div> </div></div></div></div>"
      ],
      "text/plain": [
       "RandomForestClassifier(max_depth=10, min_samples_split=5)"
      ]
     },
     "execution_count": 62,
     "metadata": {},
     "output_type": "execute_result"
    }
   ],
   "source": [
    "%%time\n",
    "ranForHP.fit(X_train, y_train)"
   ]
  },
  {
   "cell_type": "code",
   "execution_count": 63,
   "id": "87759d94-f848-4ce9-9603-7df7def36926",
   "metadata": {},
   "outputs": [
    {
     "data": {
      "text/plain": [
       "array([1, 0, 0, ..., 1, 1, 0], dtype=int64)"
      ]
     },
     "execution_count": 63,
     "metadata": {},
     "output_type": "execute_result"
    }
   ],
   "source": [
    "y_pred06 = ranForHP.predict(X_test)\n",
    "y_pred06"
   ]
  },
  {
   "cell_type": "code",
   "execution_count": 64,
   "id": "802324a5-ec13-42e5-8dfe-49eda6eef400",
   "metadata": {},
   "outputs": [
    {
     "data": {
      "text/plain": [
       "array([[0.20005489, 0.79994511],\n",
       "       [1.        , 0.        ],\n",
       "       [0.98509272, 0.01490728],\n",
       "       ...,\n",
       "       [0.33124158, 0.66875842],\n",
       "       [0.00353549, 0.99646451],\n",
       "       [0.72564947, 0.27435053]])"
      ]
     },
     "execution_count": 64,
     "metadata": {},
     "output_type": "execute_result"
    }
   ],
   "source": [
    "y_pred_prob06 = ranForHP.predict_proba(X_test)\n",
    "y_pred_prob06"
   ]
  },
  {
   "cell_type": "code",
   "execution_count": 65,
   "id": "628e5a44-b4f1-40cd-849f-ae4a3bf29735",
   "metadata": {},
   "outputs": [
    {
     "data": {
      "text/plain": [
       "0.866"
      ]
     },
     "execution_count": 65,
     "metadata": {},
     "output_type": "execute_result"
    }
   ],
   "source": [
    "accuracy06 = accuracy_score(y_test, y_pred06)\n",
    "accuracy06"
   ]
  },
  {
   "cell_type": "code",
   "execution_count": 66,
   "id": "8301ea57-ec76-44bf-a9cf-4eed266af129",
   "metadata": {},
   "outputs": [
    {
     "data": {
      "text/plain": [
       "array([[1128,  156],\n",
       "       [ 112,  604]], dtype=int64)"
      ]
     },
     "execution_count": 66,
     "metadata": {},
     "output_type": "execute_result"
    }
   ],
   "source": [
    "ranForHPConfuseMatrix = metrics.confusion_matrix(y_test, y_pred06)\n",
    "ranForHPConfuseMatrix"
   ]
  },
  {
   "cell_type": "code",
   "execution_count": 67,
   "id": "bd1dc691-7ca6-42b0-9aaf-75ec4f26495e",
   "metadata": {},
   "outputs": [
    {
     "data": {
      "image/png": "[encoded data removed]",
      "text/plain": [
       "<Figure size 800x600 with 1 Axes>"
      ]
     },
     "metadata": {},
     "output_type": "display_data"
    }
   ],
   "source": [
    "fig, ax = plt.subplots(1, 1, figsize = (8, 6))\n",
    "fig.subplots_adjust(left = 0.02, right = 0.98, wspace = 0.2)\n",
    "\n",
    "# Confusion Matrix\n",
    "sns.heatmap(ranForHPConfuseMatrix.T, square= True, annot= True, fmt= 'd',cbar= False, \n",
    "            cmap= 'Reds', ax= ax, xticklabels= confuseLabels, yticklabels= confuseLabels)\n",
    "\n",
    "# Title \n",
    "ax.set_title('Random Forest Confusion Matrix')\n",
    "ax.set_xlabel('True label')\n",
    "ax.set_ylabel('Predicted label')\n",
    "\n",
    "savePlotFunction(42)"
   ]
  },
  {
   "cell_type": "code",
   "execution_count": 68,
   "id": "49bf5bc2-933b-40c7-bcc6-e4a729d7448e",
   "metadata": {},
   "outputs": [
    {
     "name": "stdout",
     "output_type": "stream",
     "text": [
      "              precision    recall  f1-score   support\n",
      "\n",
      "           0       0.91      0.88      0.89      1284\n",
      "           1       0.79      0.84      0.82       716\n",
      "\n",
      "    accuracy                           0.87      2000\n",
      "   macro avg       0.85      0.86      0.86      2000\n",
      "weighted avg       0.87      0.87      0.87      2000\n",
      "\n"
     ]
    }
   ],
   "source": [
    "ranForClassReport = classification_report(y_test, y_pred06)\n",
    "print(ranForClassReport)"
   ]
  },
  {
   "cell_type": "markdown",
   "id": "d7cbac89-b140-4ebc-a938-10ccb890b24d",
   "metadata": {
    "jp-MarkdownHeadingCollapsed": true
   },
   "source": [
    "## Naive Bayes Bernoulli"
   ]
  },
  {
   "cell_type": "code",
   "execution_count": 70,
   "id": "4dc95068-f94f-457e-a969-c0fc6eec0473",
   "metadata": {},
   "outputs": [],
   "source": [
    "# gnbModel05 = BernoulliNB()"
   ]
  },
  {
   "cell_type": "code",
   "execution_count": 71,
   "id": "a92c94c2-904b-450f-8af8-cab23c7665c3",
   "metadata": {},
   "outputs": [],
   "source": [
    "# gnb_param_grid = {\n",
    "#     'alpha': [0.1, 1.0, 10.0,],\n",
    "#     'binarize': [0.0, 0.5, 1.0],\n",
    "# }"
   ]
  },
  {
   "cell_type": "code",
   "execution_count": 72,
   "id": "3b8872e8-32fe-4bac-a4ad-f5fa8b021427",
   "metadata": {},
   "outputs": [],
   "source": [
    "# gnb_grid_search = GridSearchCV(gnbModel05,\n",
    "#                                gnb_param_grid,\n",
    "#                                cv=5,\n",
    "#                                scoring='accuracy',\n",
    "#                                return_train_score=False,\n",
    "#                                verbose=1)"
   ]
  },
  {
   "cell_type": "raw",
   "id": "0f648abd-f17c-4911-9854-506693adb7e7",
   "metadata": {},
   "source": [
    "GridSearchCV(cv=5, estimator=BernoulliNB(),\n",
    "             param_grid={'alpha': [0.1, 1.0, 10.0],\n",
    "                         'binarize': [0.0, 0.5, 1.0]},\n",
    "             scoring='accuracy', verbose=1)\n",
    "\n",
    "best_estimator_: BernoulliNB\n",
    "BernoulliNB(alpha=10.0, binarize=0.5)\n",
    "\n",
    "BernoulliNB\n",
    "\n",
    "BernoulliNB(alpha=10.0, binarize=0.5)"
   ]
  },
  {
   "cell_type": "code",
   "execution_count": 73,
   "id": "b350906e-1aea-4139-8973-df71cd8707c5",
   "metadata": {},
   "outputs": [],
   "source": [
    "# gnbHP = BernoulliNB(alpha=10.0, binarize=0.5)"
   ]
  },
  {
   "cell_type": "code",
   "execution_count": 74,
   "id": "3ef249e9-616c-429e-8159-238e8b9d33ae",
   "metadata": {},
   "outputs": [],
   "source": [
    "# %%time\n",
    "# gnbHP.fit(X_train, y_train)"
   ]
  },
  {
   "cell_type": "code",
   "execution_count": 75,
   "id": "926005ae-84cf-43fa-bdde-dc2263be3f7c",
   "metadata": {},
   "outputs": [],
   "source": [
    "# y_pred05 = gnbHP.predict(X_test)\n",
    "# y_pred05"
   ]
  },
  {
   "cell_type": "code",
   "execution_count": 76,
   "id": "3ce5de82-25dd-4349-94e5-0a6ed43ad195",
   "metadata": {},
   "outputs": [],
   "source": [
    "# y_pred_prob05 = gnbHP.predict_proba(X_test)\n",
    "# y_pred_prob05"
   ]
  },
  {
   "cell_type": "code",
   "execution_count": 77,
   "id": "9fcb20df-9c97-4f65-b60c-1e6f210d0b02",
   "metadata": {},
   "outputs": [],
   "source": [
    "# gnbHPConfuseMatrix = metrics.confusion_matrix(y_test, y_pred05)\n",
    "# gnbHPConfuseMatrix"
   ]
  },
  {
   "cell_type": "code",
   "execution_count": 78,
   "id": "dcb85cdc-a731-499d-b733-84fdd485393c",
   "metadata": {},
   "outputs": [],
   "source": [
    "# # plot\n",
    "# fig, ax = plt.subplots(1, 1, figsize = (8, 6))\n",
    "# fig.subplots_adjust(left = 0.02, right = 0.98, wspace = 0.2)\n",
    "\n",
    "# # Confusion Matrix\n",
    "# sns.heatmap(gnbHPConfuseMatrix.T, square= True, annot= True, fmt= 'd',cbar= False, \n",
    "#             cmap= 'Greens', ax= ax, xticklabels= confuseLabels, yticklabels= confuseLabels)\n",
    "\n",
    "# # Title \n",
    "# ax.set_title('Bernouilli Confusion Matrix')\n",
    "# ax.set_xlabel('True label')\n",
    "# ax.set_ylabel('Predicted label')\n",
    "\n",
    "# savePlotFunction(41)"
   ]
  },
  {
   "cell_type": "code",
   "execution_count": 79,
   "id": "caff19db-38e1-414f-82a8-f77184f85535",
   "metadata": {},
   "outputs": [],
   "source": [
    "# gnbClassReport = classification_report(y_test, y_pred05)\n",
    "# print(gnbClassReport)"
   ]
  },
  {
   "cell_type": "markdown",
   "id": "c9cdf226-c0e5-4641-b6fd-a6faa817247f",
   "metadata": {},
   "source": [
    "## Class Report DataFrame"
   ]
  },
  {
   "cell_type": "code",
   "execution_count": 81,
   "id": "b1688bf1-c9f4-4d16-bc34-d0c00425cdd5",
   "metadata": {},
   "outputs": [
    {
     "data": {
      "text/plain": [
       "{'0': {'precision': 0.813216453135536,\n",
       "  'recall': 0.9392523364485982,\n",
       "  'f1-score': 0.8717022045536682,\n",
       "  'support': 1284.0},\n",
       " '1': {'precision': 0.8491295938104448,\n",
       "  'recall': 0.6131284916201117,\n",
       "  'f1-score': 0.7120843471208435,\n",
       "  'support': 716.0},\n",
       " 'accuracy': 0.8225,\n",
       " 'macro avg': {'precision': 0.8311730234729904,\n",
       "  'recall': 0.776190414034355,\n",
       "  'f1-score': 0.7918932758372559,\n",
       "  'support': 2000.0},\n",
       " 'weighted avg': {'precision': 0.8260733574971535,\n",
       "  'recall': 0.8225,\n",
       "  'f1-score': 0.8145590115927169,\n",
       "  'support': 2000.0}}"
      ]
     },
     "execution_count": 81,
     "metadata": {},
     "output_type": "execute_result"
    }
   ],
   "source": [
    "logRegClassReportDict = metrics.classification_report(y_test, y_pred04, output_dict=True)\n",
    "logRegClassReportDict"
   ]
  },
  {
   "cell_type": "code",
   "execution_count": 82,
   "id": "833879df-0b9c-4cf8-83ff-e931b8517035",
   "metadata": {},
   "outputs": [
    {
     "data": {
      "text/plain": [
       "{'precision': 0.8311730234729904,\n",
       " 'recall': 0.776190414034355,\n",
       " 'f1-score': 0.7918932758372559,\n",
       " 'support': 2000.0}"
      ]
     },
     "execution_count": 82,
     "metadata": {},
     "output_type": "execute_result"
    }
   ],
   "source": [
    "logRegClassReportDict['macro avg']"
   ]
  },
  {
   "cell_type": "code",
   "execution_count": 83,
   "id": "1a9253ae-c055-44ed-a41d-63af380b47ac",
   "metadata": {},
   "outputs": [
    {
     "data": {
      "text/plain": [
       "0.8311730234729904"
      ]
     },
     "execution_count": 83,
     "metadata": {},
     "output_type": "execute_result"
    }
   ],
   "source": [
    "logRegClassReportDict['macro avg']['precision']"
   ]
  },
  {
   "cell_type": "code",
   "execution_count": 84,
   "id": "22516594-0974-410e-b534-035ef0ae933a",
   "metadata": {},
   "outputs": [
    {
     "data": {
      "text/plain": [
       "[0.8311730234729904,\n",
       " 0.776190414034355,\n",
       " 0.7918932758372559,\n",
       " 2000.0,\n",
       " 'logistic_regression']"
      ]
     },
     "execution_count": 84,
     "metadata": {},
     "output_type": "execute_result"
    }
   ],
   "source": [
    "arr04 = []\n",
    "for i in logRegClassReportDict['macro avg']:\n",
    "    logClassMetric=logRegClassReportDict['macro avg'][i]\n",
    "    arr04.append(logClassMetric)\n",
    "arr04.append('logistic_regression')\n",
    "arr04"
   ]
  },
  {
   "cell_type": "code",
   "execution_count": 85,
   "id": "6e6fc8ab-b85e-4bde-b56b-cee403b55e1c",
   "metadata": {},
   "outputs": [
    {
     "data": {
      "text/plain": [
       "{'0': {'precision': 0.9128329297820823,\n",
       "  'recall': 0.8808411214953271,\n",
       "  'f1-score': 0.896551724137931,\n",
       "  'support': 1284.0},\n",
       " '1': {'precision': 0.7989487516425755,\n",
       "  'recall': 0.8491620111731844,\n",
       "  'f1-score': 0.8232904536222072,\n",
       "  'support': 716.0},\n",
       " 'accuracy': 0.8695,\n",
       " 'macro avg': {'precision': 0.8558908407123289,\n",
       "  'recall': 0.8650015663342557,\n",
       "  'f1-score': 0.8599210888800691,\n",
       "  'support': 2000.0},\n",
       " 'weighted avg': {'precision': 0.8720623940081389,\n",
       "  'recall': 0.8695,\n",
       "  'f1-score': 0.870324189293302,\n",
       "  'support': 2000.0}}"
      ]
     },
     "execution_count": 85,
     "metadata": {},
     "output_type": "execute_result"
    }
   ],
   "source": [
    "gnbClassReportDict = metrics.classification_report(y_test, y_pred07, output_dict=True)\n",
    "gnbClassReportDict"
   ]
  },
  {
   "cell_type": "code",
   "execution_count": 86,
   "id": "3ad1d021-d7a4-453d-82f9-4cc3bc866085",
   "metadata": {},
   "outputs": [
    {
     "data": {
      "text/plain": [
       "0.8558908407123289"
      ]
     },
     "execution_count": 86,
     "metadata": {},
     "output_type": "execute_result"
    }
   ],
   "source": [
    "gnbClassReportDict['macro avg']['precision']"
   ]
  },
  {
   "cell_type": "code",
   "execution_count": 87,
   "id": "ac5caf05-09e1-49b3-956f-1febdb91befb",
   "metadata": {},
   "outputs": [
    {
     "data": {
      "text/plain": [
       "[0.8558908407123289,\n",
       " 0.8650015663342557,\n",
       " 0.8599210888800691,\n",
       " 2000.0,\n",
       " 'gradient_boosting']"
      ]
     },
     "execution_count": 87,
     "metadata": {},
     "output_type": "execute_result"
    }
   ],
   "source": [
    "arr07= []\n",
    "for i in gnbClassReportDict['macro avg']:\n",
    "    gnbClassMetric=gnbClassReportDict['macro avg'][i]\n",
    "    arr07.append(gnbClassMetric)\n",
    "arr07.append('gradient_boosting')\n",
    "arr07"
   ]
  },
  {
   "cell_type": "code",
   "execution_count": 88,
   "id": "b3364e86-730f-48ac-b3fe-c1a130441a08",
   "metadata": {},
   "outputs": [
    {
     "data": {
      "text/plain": [
       "{'0': {'precision': 0.9096774193548387,\n",
       "  'recall': 0.8785046728971962,\n",
       "  'f1-score': 0.8938193343898574,\n",
       "  'support': 1284.0},\n",
       " '1': {'precision': 0.7947368421052632,\n",
       "  'recall': 0.8435754189944135,\n",
       "  'f1-score': 0.8184281842818428,\n",
       "  'support': 716.0},\n",
       " 'accuracy': 0.866,\n",
       " 'macro avg': {'precision': 0.8522071307300509,\n",
       "  'recall': 0.8610400459458049,\n",
       "  'f1-score': 0.8561237593358502,\n",
       "  'support': 2000.0},\n",
       " 'weighted avg': {'precision': 0.8685286926994906,\n",
       "  'recall': 0.866,\n",
       "  'f1-score': 0.8668293026511883,\n",
       "  'support': 2000.0}}"
      ]
     },
     "execution_count": 88,
     "metadata": {},
     "output_type": "execute_result"
    }
   ],
   "source": [
    "ranForClassReportDict = metrics.classification_report(y_test, y_pred06, output_dict=True)\n",
    "ranForClassReportDict"
   ]
  },
  {
   "cell_type": "code",
   "execution_count": 89,
   "id": "d5fa820c-3b55-43c1-9e15-6cf4a2dad37b",
   "metadata": {},
   "outputs": [
    {
     "data": {
      "text/plain": [
       "0.8522071307300509"
      ]
     },
     "execution_count": 89,
     "metadata": {},
     "output_type": "execute_result"
    }
   ],
   "source": [
    "ranForClassReportDict['macro avg']['precision']"
   ]
  },
  {
   "cell_type": "code",
   "execution_count": 90,
   "id": "a0456fae-2c00-44ae-9ff3-0ab36f0f5b5c",
   "metadata": {},
   "outputs": [
    {
     "data": {
      "text/plain": [
       "[0.8522071307300509,\n",
       " 0.8610400459458049,\n",
       " 0.8561237593358502,\n",
       " 2000.0,\n",
       " 'random_forest']"
      ]
     },
     "execution_count": 90,
     "metadata": {},
     "output_type": "execute_result"
    }
   ],
   "source": [
    "arr06= []\n",
    "for i in ranForClassReportDict['macro avg']:\n",
    "    ranForClassMetric=ranForClassReportDict['macro avg'][i]\n",
    "    arr06.append(ranForClassMetric)\n",
    "arr06.append('random_forest')\n",
    "arr06"
   ]
  },
  {
   "cell_type": "code",
   "execution_count": 91,
   "id": "748885d1-3a87-4127-a0dc-6d90871ed73a",
   "metadata": {},
   "outputs": [
    {
     "data": {
      "text/plain": [
       "[[0.8311730234729904,\n",
       "  0.776190414034355,\n",
       "  0.7918932758372559,\n",
       "  2000.0,\n",
       "  'logistic_regression'],\n",
       " [0.8558908407123289,\n",
       "  0.8650015663342557,\n",
       "  0.8599210888800691,\n",
       "  2000.0,\n",
       "  'gradient_boosting'],\n",
       " [0.8522071307300509,\n",
       "  0.8610400459458049,\n",
       "  0.8561237593358502,\n",
       "  2000.0,\n",
       "  'random_forest']]"
      ]
     },
     "execution_count": 91,
     "metadata": {},
     "output_type": "execute_result"
    }
   ],
   "source": [
    "modelArr06= []\n",
    "modelArr06.append(arr04)\n",
    "modelArr06.append(arr07)\n",
    "modelArr06.append(arr06)\n",
    "\n",
    "modelArr06"
   ]
  },
  {
   "cell_type": "code",
   "execution_count": 92,
   "id": "02b3858e-e74b-4868-9a6d-8b3b692e5f96",
   "metadata": {},
   "outputs": [
    {
     "data": {
      "text/plain": [
       "['precision', 'recall', 'f1-score', 'support', 'model']"
      ]
     },
     "execution_count": 92,
     "metadata": {},
     "output_type": "execute_result"
    }
   ],
   "source": [
    "comparisonCols = ['precision', 'recall', 'f1-score', 'support', 'model']\n",
    "comparisonCols"
   ]
  },
  {
   "cell_type": "code",
   "execution_count": 93,
   "id": "e71553b1-a0ee-4529-8864-07d1e143d765",
   "metadata": {},
   "outputs": [
    {
     "data": {
      "text/html": [
       "<div>\n",
       "<style scoped>\n",
       "    .dataframe tbody tr th:only-of-type {\n",
       "        vertical-align: middle;\n",
       "    }\n",
       "\n",
       "    .dataframe tbody tr th {\n",
       "        vertical-align: top;\n",
       "    }\n",
       "\n",
       "    .dataframe thead th {\n",
       "        text-align: right;\n",
       "    }\n",
       "</style>\n",
       "<table border=\"1\" class=\"dataframe\">\n",
       "  <thead>\n",
       "    <tr style=\"text-align: right;\">\n",
       "      <th></th>\n",
       "      <th>precision</th>\n",
       "      <th>recall</th>\n",
       "      <th>f1-score</th>\n",
       "      <th>support</th>\n",
       "      <th>model</th>\n",
       "    </tr>\n",
       "  </thead>\n",
       "  <tbody>\n",
       "    <tr>\n",
       "      <th>0</th>\n",
       "      <td>0.831173</td>\n",
       "      <td>0.776190</td>\n",
       "      <td>0.791893</td>\n",
       "      <td>2000.0</td>\n",
       "      <td>logistic_regression</td>\n",
       "    </tr>\n",
       "    <tr>\n",
       "      <th>1</th>\n",
       "      <td>0.855891</td>\n",
       "      <td>0.865002</td>\n",
       "      <td>0.859921</td>\n",
       "      <td>2000.0</td>\n",
       "      <td>gradient_boosting</td>\n",
       "    </tr>\n",
       "    <tr>\n",
       "      <th>2</th>\n",
       "      <td>0.852207</td>\n",
       "      <td>0.861040</td>\n",
       "      <td>0.856124</td>\n",
       "      <td>2000.0</td>\n",
       "      <td>random_forest</td>\n",
       "    </tr>\n",
       "  </tbody>\n",
       "</table>\n",
       "</div>"
      ],
      "text/plain": [
       "   precision    recall  f1-score  support                model\n",
       "0   0.831173  0.776190  0.791893   2000.0  logistic_regression\n",
       "1   0.855891  0.865002  0.859921   2000.0    gradient_boosting\n",
       "2   0.852207  0.861040  0.856124   2000.0        random_forest"
      ]
     },
     "execution_count": 93,
     "metadata": {},
     "output_type": "execute_result"
    }
   ],
   "source": [
    "dfModCompare = pd.DataFrame(modelArr06, columns=comparisonCols)\n",
    "dfModCompare"
   ]
  },
  {
   "cell_type": "code",
   "execution_count": 94,
   "id": "62689d18-3f93-4a58-bdcc-201ac5346e13",
   "metadata": {},
   "outputs": [
    {
     "data": {
      "text/html": [
       "<div>\n",
       "<style scoped>\n",
       "    .dataframe tbody tr th:only-of-type {\n",
       "        vertical-align: middle;\n",
       "    }\n",
       "\n",
       "    .dataframe tbody tr th {\n",
       "        vertical-align: top;\n",
       "    }\n",
       "\n",
       "    .dataframe thead th {\n",
       "        text-align: right;\n",
       "    }\n",
       "</style>\n",
       "<table border=\"1\" class=\"dataframe\">\n",
       "  <thead>\n",
       "    <tr style=\"text-align: right;\">\n",
       "      <th></th>\n",
       "      <th>precision</th>\n",
       "      <th>recall</th>\n",
       "      <th>f1-score</th>\n",
       "      <th>support</th>\n",
       "    </tr>\n",
       "    <tr>\n",
       "      <th>model</th>\n",
       "      <th></th>\n",
       "      <th></th>\n",
       "      <th></th>\n",
       "      <th></th>\n",
       "    </tr>\n",
       "  </thead>\n",
       "  <tbody>\n",
       "    <tr>\n",
       "      <th>logistic_regression</th>\n",
       "      <td>0.831173</td>\n",
       "      <td>0.776190</td>\n",
       "      <td>0.791893</td>\n",
       "      <td>2000.0</td>\n",
       "    </tr>\n",
       "    <tr>\n",
       "      <th>gradient_boosting</th>\n",
       "      <td>0.855891</td>\n",
       "      <td>0.865002</td>\n",
       "      <td>0.859921</td>\n",
       "      <td>2000.0</td>\n",
       "    </tr>\n",
       "    <tr>\n",
       "      <th>random_forest</th>\n",
       "      <td>0.852207</td>\n",
       "      <td>0.861040</td>\n",
       "      <td>0.856124</td>\n",
       "      <td>2000.0</td>\n",
       "    </tr>\n",
       "  </tbody>\n",
       "</table>\n",
       "</div>"
      ],
      "text/plain": [
       "                     precision    recall  f1-score  support\n",
       "model                                                      \n",
       "logistic_regression   0.831173  0.776190  0.791893   2000.0\n",
       "gradient_boosting     0.855891  0.865002  0.859921   2000.0\n",
       "random_forest         0.852207  0.861040  0.856124   2000.0"
      ]
     },
     "execution_count": 94,
     "metadata": {},
     "output_type": "execute_result"
    }
   ],
   "source": [
    "dfModIndex = dfModCompare\n",
    "dfModIndex.set_index('model', inplace=True)\n",
    "dfModIndex.head()"
   ]
  },
  {
   "cell_type": "code",
   "execution_count": 95,
   "id": "1edf4de7-3469-43da-9477-688f31ea45c5",
   "metadata": {},
   "outputs": [
    {
     "data": {
      "text/html": [
       "<div>\n",
       "<style scoped>\n",
       "    .dataframe tbody tr th:only-of-type {\n",
       "        vertical-align: middle;\n",
       "    }\n",
       "\n",
       "    .dataframe tbody tr th {\n",
       "        vertical-align: top;\n",
       "    }\n",
       "\n",
       "    .dataframe thead th {\n",
       "        text-align: right;\n",
       "    }\n",
       "</style>\n",
       "<table border=\"1\" class=\"dataframe\">\n",
       "  <thead>\n",
       "    <tr style=\"text-align: right;\">\n",
       "      <th></th>\n",
       "      <th>precision</th>\n",
       "      <th>recall</th>\n",
       "      <th>f1-score</th>\n",
       "      <th>support</th>\n",
       "    </tr>\n",
       "    <tr>\n",
       "      <th></th>\n",
       "      <th></th>\n",
       "      <th></th>\n",
       "      <th></th>\n",
       "      <th></th>\n",
       "    </tr>\n",
       "  </thead>\n",
       "  <tbody>\n",
       "    <tr>\n",
       "      <th>logistic_regression</th>\n",
       "      <td>0.831173</td>\n",
       "      <td>0.776190</td>\n",
       "      <td>0.791893</td>\n",
       "      <td>2000.0</td>\n",
       "    </tr>\n",
       "    <tr>\n",
       "      <th>gradient_boosting</th>\n",
       "      <td>0.855891</td>\n",
       "      <td>0.865002</td>\n",
       "      <td>0.859921</td>\n",
       "      <td>2000.0</td>\n",
       "    </tr>\n",
       "    <tr>\n",
       "      <th>random_forest</th>\n",
       "      <td>0.852207</td>\n",
       "      <td>0.861040</td>\n",
       "      <td>0.856124</td>\n",
       "      <td>2000.0</td>\n",
       "    </tr>\n",
       "  </tbody>\n",
       "</table>\n",
       "</div>"
      ],
      "text/plain": [
       "                     precision    recall  f1-score  support\n",
       "                                                           \n",
       "logistic_regression   0.831173  0.776190  0.791893   2000.0\n",
       "gradient_boosting     0.855891  0.865002  0.859921   2000.0\n",
       "random_forest         0.852207  0.861040  0.856124   2000.0"
      ]
     },
     "execution_count": 95,
     "metadata": {},
     "output_type": "execute_result"
    }
   ],
   "source": [
    "dfModIndex.index.names = ['']\n",
    "dfModIndex.head()"
   ]
  },
  {
   "cell_type": "code",
   "execution_count": 96,
   "id": "208d0848-4b7e-42ba-a1a5-a69ba46bb081",
   "metadata": {},
   "outputs": [
    {
     "data": {
      "text/html": [
       "<div>\n",
       "<style scoped>\n",
       "    .dataframe tbody tr th:only-of-type {\n",
       "        vertical-align: middle;\n",
       "    }\n",
       "\n",
       "    .dataframe tbody tr th {\n",
       "        vertical-align: top;\n",
       "    }\n",
       "\n",
       "    .dataframe thead th {\n",
       "        text-align: right;\n",
       "    }\n",
       "</style>\n",
       "<table border=\"1\" class=\"dataframe\">\n",
       "  <thead>\n",
       "    <tr style=\"text-align: right;\">\n",
       "      <th></th>\n",
       "      <th>precision</th>\n",
       "      <th>recall</th>\n",
       "      <th>f1-score</th>\n",
       "      <th>support</th>\n",
       "    </tr>\n",
       "    <tr>\n",
       "      <th></th>\n",
       "      <th></th>\n",
       "      <th></th>\n",
       "      <th></th>\n",
       "      <th></th>\n",
       "    </tr>\n",
       "  </thead>\n",
       "  <tbody>\n",
       "    <tr>\n",
       "      <th>logistic_regression</th>\n",
       "      <td>0.831173</td>\n",
       "      <td>0.77619</td>\n",
       "      <td>0.791893</td>\n",
       "      <td>2000.0</td>\n",
       "    </tr>\n",
       "  </tbody>\n",
       "</table>\n",
       "</div>"
      ],
      "text/plain": [
       "                     precision   recall  f1-score  support\n",
       "                                                          \n",
       "logistic_regression   0.831173  0.77619  0.791893   2000.0"
      ]
     },
     "execution_count": 96,
     "metadata": {},
     "output_type": "execute_result"
    }
   ],
   "source": [
    "dfModIndex.iloc[:1,:]\n"
   ]
  },
  {
   "cell_type": "code",
   "execution_count": 97,
   "id": "20b8af44-b976-4d07-bd5e-974182a14266",
   "metadata": {},
   "outputs": [
    {
     "data": {
      "text/html": [
       "<div>\n",
       "<style scoped>\n",
       "    .dataframe tbody tr th:only-of-type {\n",
       "        vertical-align: middle;\n",
       "    }\n",
       "\n",
       "    .dataframe tbody tr th {\n",
       "        vertical-align: top;\n",
       "    }\n",
       "\n",
       "    .dataframe thead th {\n",
       "        text-align: right;\n",
       "    }\n",
       "</style>\n",
       "<table border=\"1\" class=\"dataframe\">\n",
       "  <thead>\n",
       "    <tr style=\"text-align: right;\">\n",
       "      <th></th>\n",
       "      <th>precision</th>\n",
       "      <th>recall</th>\n",
       "      <th>f1-score</th>\n",
       "      <th>support</th>\n",
       "    </tr>\n",
       "    <tr>\n",
       "      <th></th>\n",
       "      <th></th>\n",
       "      <th></th>\n",
       "      <th></th>\n",
       "      <th></th>\n",
       "    </tr>\n",
       "  </thead>\n",
       "  <tbody>\n",
       "    <tr>\n",
       "      <th>gradient_boosting</th>\n",
       "      <td>0.855891</td>\n",
       "      <td>0.865002</td>\n",
       "      <td>0.859921</td>\n",
       "      <td>2000.0</td>\n",
       "    </tr>\n",
       "  </tbody>\n",
       "</table>\n",
       "</div>"
      ],
      "text/plain": [
       "                   precision    recall  f1-score  support\n",
       "                                                         \n",
       "gradient_boosting   0.855891  0.865002  0.859921   2000.0"
      ]
     },
     "execution_count": 97,
     "metadata": {},
     "output_type": "execute_result"
    }
   ],
   "source": [
    "dfModIndex.iloc[1:2,:]\n"
   ]
  },
  {
   "cell_type": "code",
   "execution_count": 98,
   "id": "36e17848-a67b-46c1-933b-0f5f6ead8717",
   "metadata": {},
   "outputs": [
    {
     "data": {
      "text/html": [
       "<div>\n",
       "<style scoped>\n",
       "    .dataframe tbody tr th:only-of-type {\n",
       "        vertical-align: middle;\n",
       "    }\n",
       "\n",
       "    .dataframe tbody tr th {\n",
       "        vertical-align: top;\n",
       "    }\n",
       "\n",
       "    .dataframe thead th {\n",
       "        text-align: right;\n",
       "    }\n",
       "</style>\n",
       "<table border=\"1\" class=\"dataframe\">\n",
       "  <thead>\n",
       "    <tr style=\"text-align: right;\">\n",
       "      <th></th>\n",
       "      <th>precision</th>\n",
       "      <th>recall</th>\n",
       "      <th>f1-score</th>\n",
       "      <th>support</th>\n",
       "    </tr>\n",
       "    <tr>\n",
       "      <th></th>\n",
       "      <th></th>\n",
       "      <th></th>\n",
       "      <th></th>\n",
       "      <th></th>\n",
       "    </tr>\n",
       "  </thead>\n",
       "  <tbody>\n",
       "    <tr>\n",
       "      <th>random_forest</th>\n",
       "      <td>0.852207</td>\n",
       "      <td>0.86104</td>\n",
       "      <td>0.856124</td>\n",
       "      <td>2000.0</td>\n",
       "    </tr>\n",
       "  </tbody>\n",
       "</table>\n",
       "</div>"
      ],
      "text/plain": [
       "               precision   recall  f1-score  support\n",
       "                                                    \n",
       "random_forest   0.852207  0.86104  0.856124   2000.0"
      ]
     },
     "execution_count": 98,
     "metadata": {},
     "output_type": "execute_result"
    }
   ],
   "source": [
    "dfModIndex.iloc[2:3,:]"
   ]
  },
  {
   "cell_type": "markdown",
   "id": "b953e792-d4ab-4a80-bb8b-e20e5a4392f0",
   "metadata": {},
   "source": [
    "## ROC Curve"
   ]
  },
  {
   "cell_type": "code",
   "execution_count": 190,
   "id": "ebccb506-8850-43ba-9914-48e1d3be9bff",
   "metadata": {},
   "outputs": [
    {
     "data": {
      "image/png": "[encoded data removed]",
      "text/plain": [
       "<Figure size 800x600 with 1 Axes>"
      ]
     },
     "metadata": {},
     "output_type": "display_data"
    }
   ],
   "source": [
    "# Generate the prediction values for each of the test observations using predict_proba() function rather than just predict\n",
    "preds04 = logRegHP.predict_proba(X_test)[:,1]\n",
    "preds05 = grb.predict_proba(X_test)[:,1]\n",
    "preds06 = ranForHP.predict_proba(X_test)[:,1]\n",
    "\n",
    "# Store the false positive rate(fpr), true positive rate (tpr) in vectors for use in the graph\n",
    "fpr04, tpr04, _ = metrics.roc_curve(y_test, preds04)\n",
    "fpr05, tpr05, _ = metrics.roc_curve(y_test, preds05)\n",
    "fpr06, tpr06, _ = metrics.roc_curve(y_test, preds06)\n",
    "\n",
    "# Store the Area Under the Curve (AUC) so we can annotate our graph with theis metric\n",
    "roc_auc04 = metrics.auc(fpr04, tpr04)\n",
    "roc_auc05 = metrics.auc(fpr05, tpr05)\n",
    "roc_auc06 = metrics.auc(fpr06, tpr06)\n",
    "\n",
    "# Plot the ROC Curve\n",
    "plt.figure(figsize =(8, 6))\n",
    "lw = 2\n",
    "plt.plot(fpr04, tpr04, color='darkblue', lw = lw, label = 'Logistic Regression ROC curve (area = %0.2f)' % roc_auc04)\n",
    "plt.plot(fpr05, tpr05, color='aqua', lw = lw, label = 'Gradient Boosting ROC curve (area = %0.2f)' % roc_auc05)\n",
    "plt.plot(fpr06, tpr06, color='darkred', lw = lw, label = 'Random Forest ROC curve (area = %0.2f)' % roc_auc06)\n",
    "plt.plot([0, 1], [0, 1], color = 'black', lw = lw, linestyle = '--', label= 'Random Classifer')\n",
    "plt.xlim([-0.05, 1.05])\n",
    "plt.ylim([-0.05, 1.05])\n",
    "plt.grid(alpha=0.5)\n",
    "plt.xlabel('False Positive Rate')\n",
    "plt.ylabel('True Positive Rate')\n",
    "plt.title('ROC Curve for Projects Reaching Target')\n",
    "plt.legend(loc = \"lower right\")\n",
    "\n",
    "savePlotFunction(43)"
   ]
  },
  {
   "cell_type": "code",
   "execution_count": 101,
   "id": "f48c46ca-2019-4ecf-a8ba-c9ab4e3129cf",
   "metadata": {},
   "outputs": [],
   "source": [
    "# # Generate the prediction values for each of the test observations using predict_proba() function rather than just predict\n",
    "# preds04 = logRegHP.predict_proba(X_test)[:,1]\n",
    "# preds05 = grb.predict_proba(X_test)[:,1]\n",
    "# preds06 = ranForHP.predict_proba(X_test)[:,1]\n",
    "\n",
    "# # Store the false positive rate(fpr), true positive rate (tpr) in vectors for use in the graph\n",
    "# fpr04, tpr04, _ = metrics.roc_curve(y_test, preds04)\n",
    "# fpr05, tpr05, _ = metrics.roc_curve(y_test, preds05)\n",
    "# fpr06, tpr06, _ = metrics.roc_curve(y_test, preds06)\n",
    "\n",
    "# # Store the Area Under the Curve (AUC) so we can annotate our graph with theis metric\n",
    "# roc_auc04 = metrics.auc(fpr04, tpr04)\n",
    "# roc_auc05 = metrics.auc(fpr05, tpr05)\n",
    "# roc_auc06 = metrics.auc(fpr06, tpr06)\n",
    "\n",
    "# # Plot the ROC Curve\n",
    "# plt.figure(figsize =(8, 6))\n",
    "# lw = 2\n",
    "# plt.plot(fpr04, tpr04, color='darkblue', lw = lw, label = 'Logistic Regression ROC curve (area = %0.2f)' % roc_auc04)\n",
    "# plt.plot(fpr05, tpr05, color='aqua', lw = lw, label = 'Gradient Boosting ROC curve (area = %0.2f)' % roc_auc05)\n",
    "# plt.plot(fpr06, tpr06, color='darkred', lw = lw, label = 'Random Forest ROC curve (area = %0.2f)' % roc_auc06)\n",
    "# plt.plot([0, 1], [0, 1], color = 'black', lw = lw, linestyle = '--', label= 'Random Classifer')\n",
    "# plt.xlim([-0.05, 0.2])\n",
    "# plt.ylim([0.8, 1.05])\n",
    "# plt.grid(alpha=0.5)\n",
    "# plt.xlabel('False Positive Rate')\n",
    "# plt.ylabel('True Positive Rate')\n",
    "# plt.title('ROC Curve for Projects Reaching Target')\n",
    "# plt.legend(loc = \"lower right\")\n",
    "\n",
    "# savePlotFunction(45)"
   ]
  },
  {
   "cell_type": "markdown",
   "id": "8d138b1b-e573-4fec-9758-4d6c6ddfd6ad",
   "metadata": {},
   "source": [
    "## Learning Curve"
   ]
  },
  {
   "cell_type": "code",
   "execution_count": 103,
   "id": "45181f99-64e2-4d99-87b2-a44635c73f7a",
   "metadata": {},
   "outputs": [],
   "source": [
    "def plot_learning_curve(\n",
    "    estimator,\n",
    "    title,\n",
    "    X,\n",
    "    y,\n",
    "    axes=None,\n",
    "    ylim=None,\n",
    "    cv=None,\n",
    "    n_jobs=None,\n",
    "    train_sizes=np.linspace(0.1, 1.0, 5),\n",
    "):\n",
    "    \"\"\"\n",
    "    Generate 3 plots: the test and training learning curve, the training\n",
    "    samples vs fit times curve, the fit times vs score curve.\n",
    "\n",
    "    Parameters\n",
    "    ----------\n",
    "    estimator : estimator instance\n",
    "        An estimator instance implementing `fit` and `predict` methods which\n",
    "        will be cloned for each validation.\n",
    "\n",
    "    title : str\n",
    "        Title for the chart.\n",
    "\n",
    "    X : array-like of shape (n_samples, n_features)\n",
    "        Training vector, where ``n_samples`` is the number of samples and\n",
    "        ``n_features`` is the number of features.\n",
    "\n",
    "    y : array-like of shape (n_samples) or (n_samples, n_features)\n",
    "        Target relative to ``X`` for classification or regression;\n",
    "        None for unsupervised learning.\n",
    "\n",
    "    axes : array-like of shape (3,), default=None\n",
    "        Axes to use for plotting the curves.\n",
    "\n",
    "    ylim : tuple of shape (2,), default=None\n",
    "        Defines minimum and maximum y-values plotted, e.g. (ymin, ymax).\n",
    "\n",
    "    cv : int, cross-validation generator or an iterable, default=None\n",
    "        Determines the cross-validation splitting strategy.\n",
    "        Possible inputs for cv are:\n",
    "\n",
    "          - None, to use the default 5-fold cross-validation,\n",
    "          - integer, to specify the number of folds.\n",
    "          - :term:`CV splitter`,\n",
    "          - An iterable yielding (train, test) splits as arrays of indices.\n",
    "\n",
    "        For integer/None inputs, if ``y`` is binary or multiclass,\n",
    "        :class:`StratifiedKFold` used. If the estimator is not a classifier\n",
    "        or if ``y`` is neither binary nor multiclass, :class:`KFold` is used.\n",
    "\n",
    "        Refer :ref:`User Guide <cross_validation>` for the various\n",
    "        cross-validators that can be used here.\n",
    "\n",
    "    n_jobs : int or None, default=None\n",
    "        Number of jobs to run in parallel.\n",
    "        ``None`` means 1 unless in a :obj:`joblib.parallel_backend` context.\n",
    "        ``-1`` means using all processors. See :term:`Glossary <n_jobs>`\n",
    "        for more details.\n",
    "\n",
    "    train_sizes : array-like of shape (n_ticks,)\n",
    "        Relative or absolute numbers of training examples that will be used to\n",
    "        generate the learning curve. If the ``dtype`` is float, it is regarded\n",
    "        as a fraction of the maximum size of the training set (that is\n",
    "        determined by the selected validation method), i.e. it has to be within\n",
    "        (0, 1]. Otherwise it is interpreted as absolute sizes of the training\n",
    "        sets. Note that for classification the number of samples usually have\n",
    "        to be big enough to contain at least one sample from each class.\n",
    "        (default: np.linspace(0.1, 1.0, 5))\n",
    "    \"\"\"\n",
    "    if axes is None:\n",
    "        _, axes = plt.subplots(1, 3, figsize=(20, 5))\n",
    "\n",
    "    axes[0].set_title(title)\n",
    "    if ylim is not None:\n",
    "        axes[0].set_ylim(*ylim)\n",
    "    axes[0].set_xlabel(\"Training examples\")\n",
    "    axes[0].set_ylabel(\"Score\")\n",
    "\n",
    "    train_sizes, train_scores, test_scores, fit_times, _ = learning_curve(\n",
    "        estimator,\n",
    "        X,\n",
    "        y,\n",
    "        cv=cv,\n",
    "        n_jobs=n_jobs,\n",
    "        train_sizes=train_sizes,\n",
    "        return_times=True,\n",
    "    )\n",
    "    train_scores_mean = np.mean(train_scores, axis=1)\n",
    "    train_scores_std = np.std(train_scores, axis=1)\n",
    "    test_scores_mean = np.mean(test_scores, axis=1)\n",
    "    test_scores_std = np.std(test_scores, axis=1)\n",
    "    fit_times_mean = np.mean(fit_times, axis=1)\n",
    "    fit_times_std = np.std(fit_times, axis=1)\n",
    "\n",
    "    # Plot learning curve\n",
    "    axes[0].grid()\n",
    "    axes[0].fill_between(\n",
    "        train_sizes,\n",
    "        train_scores_mean - train_scores_std,\n",
    "        train_scores_mean + train_scores_std,\n",
    "        alpha=0.1,\n",
    "        color=\"r\",\n",
    "    )\n",
    "    axes[0].fill_between(\n",
    "        train_sizes,\n",
    "        test_scores_mean - test_scores_std,\n",
    "        test_scores_mean + test_scores_std,\n",
    "        alpha=0.1,\n",
    "        color=\"g\",\n",
    "    )\n",
    "    axes[0].plot(\n",
    "        train_sizes, train_scores_mean, \"o-\", color=\"r\", label=\"Training score\"\n",
    "    )\n",
    "    axes[0].plot(\n",
    "        train_sizes, test_scores_mean, \"o-\", color=\"g\", label=\"Cross-validation score\"\n",
    "    )\n",
    "    axes[0].legend(loc=\"best\")\n",
    "\n",
    "    # Plot n_samples vs fit_times\n",
    "    axes[1].grid()\n",
    "    axes[1].plot(train_sizes, fit_times_mean, \"o-\")\n",
    "    axes[1].fill_between(\n",
    "        train_sizes,\n",
    "        fit_times_mean - fit_times_std,\n",
    "        fit_times_mean + fit_times_std,\n",
    "        alpha=0.1,\n",
    "    )\n",
    "    axes[1].set_xlabel(\"Training examples\")\n",
    "    axes[1].set_ylabel(\"fit_times\")\n",
    "    axes[1].set_title(\"Scalability of the model\")\n",
    "\n",
    "    # Plot fit_time vs score\n",
    "    fit_time_argsort = fit_times_mean.argsort()\n",
    "    fit_time_sorted = fit_times_mean[fit_time_argsort]\n",
    "    test_scores_mean_sorted = test_scores_mean[fit_time_argsort]\n",
    "    test_scores_std_sorted = test_scores_std[fit_time_argsort]\n",
    "    axes[2].grid()\n",
    "    axes[2].plot(fit_time_sorted, test_scores_mean_sorted, \"o-\")\n",
    "    axes[2].fill_between(\n",
    "        fit_time_sorted,\n",
    "        test_scores_mean_sorted - test_scores_std_sorted,\n",
    "        test_scores_mean_sorted + test_scores_std_sorted,\n",
    "        alpha=0.1,\n",
    "    )\n",
    "    axes[2].set_xlabel(\"fit_times\")\n",
    "    axes[2].set_ylabel(\"Score\")\n",
    "    axes[2].set_title(\"Performance of the model\")\n",
    "\n",
    "    return plt"
   ]
  },
  {
   "cell_type": "code",
   "execution_count": 104,
   "id": "ce21a318-7c74-4be2-8275-b0b6e2752391",
   "metadata": {},
   "outputs": [
    {
     "data": {
      "image/png": "[encoded data removed]",
      "text/plain": [
       "<Figure size 1500x2000 with 9 Axes>"
      ]
     },
     "metadata": {},
     "output_type": "display_data"
    },
    {
     "name": "stdout",
     "output_type": "stream",
     "text": [
      "CPU times: total: 19.8 s\n",
      "Wall time: 2h 44min 26s\n"
     ]
    }
   ],
   "source": [
    "%%time\n",
    "fig, axes = plt.subplots(3, 3, figsize=(15, 20))\n",
    "\n",
    "title = \"Learning Curves (Logistic Regression)\"\n",
    "# score curves, each time with 20% data randomly selected as a validation set.\n",
    "cv = ShuffleSplit(n_splits= 50, test_size= 0.2, random_state= 42)\n",
    "\n",
    "estimator = logRegHP\n",
    "plot_learning_curve(\n",
    "    estimator, title, X, y, axes= axes[:, 2], ylim= (0.0, 1.01), cv= cv, n_jobs= 4\n",
    ")\n",
    "\n",
    "\n",
    "title = \"Learning Curves (Gradient Boosting)\"\n",
    "# score curves, each time with 20% data randomly selected as a validation set.\n",
    "cv = ShuffleSplit(n_splits= 50, test_size= 0.2, random_state= 42)\n",
    "\n",
    "estimator = grb\n",
    "plot_learning_curve(\n",
    "    estimator, title, X, y, axes= axes[:, 0], ylim= (0.0, 1.01), cv= cv, n_jobs= 4\n",
    ")\n",
    "\n",
    "# title \n",
    "title = r\"Learning Curves (Random Forest)\"\n",
    "cv = ShuffleSplit(n_splits= 50, test_size= 0.2, random_state= 42)\n",
    "# score curves, each time with 20% data randomly selected as a validation set.\n",
    "\n",
    "estimator = ranForHP\n",
    "plot_learning_curve(\n",
    "    estimator, title, X, y, axes= axes[:, 1], ylim= (0.0, 1.01), cv= cv, n_jobs= 4\n",
    ")\n",
    "\n",
    "\n",
    "savePlotFunction(44)"
   ]
  },
  {
   "cell_type": "code",
   "execution_count": null,
   "id": "b61ca121-c1b6-4862-b532-361405c10b40",
   "metadata": {},
   "outputs": [],
   "source": []
  },
  {
   "cell_type": "code",
   "execution_count": null,
   "id": "ad71f04c-bcf3-4192-adb8-d73866857f97",
   "metadata": {},
   "outputs": [],
   "source": []
  },
  {
   "cell_type": "code",
   "execution_count": null,
   "id": "368bf560-21db-43d7-be25-7cfbf319f21d",
   "metadata": {},
   "outputs": [],
   "source": []
  }
 ],
 "metadata": {
  "kernelspec": {
   "display_name": "Python [conda env:base] *",
   "language": "python",
   "name": "conda-base-py"
  },
  "language_info": {
   "codemirror_mode": {
    "name": "ipython",
    "version": 3
   },
   "file_extension": ".py",
   "mimetype": "text/x-python",
   "name": "python",
   "nbconvert_exporter": "python",
   "pygments_lexer": "ipython3",
   "version": "3.12.3"
  }
 },
 "nbformat": 4,
 "nbformat_minor": 5
}
